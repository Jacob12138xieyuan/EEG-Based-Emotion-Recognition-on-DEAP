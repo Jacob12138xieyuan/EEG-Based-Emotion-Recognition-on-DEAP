{
 "cells": [
  {
   "cell_type": "markdown",
   "metadata": {},
   "source": [
    "# All Python packages"
   ]
  },
  {
   "cell_type": "code",
   "execution_count": 1,
   "metadata": {},
   "outputs": [],
   "source": [
    "import numpy as np\n",
    "import collections\n",
    "import math\n",
    "import pickle\n",
    "\n",
    "from sklearn.utils import shuffle\n",
    "\n",
    "import scipy.io\n",
    "from scipy import signal, integrate\n",
    "import matplotlib.pyplot as plt"
   ]
  },
  {
   "cell_type": "markdown",
   "metadata": {},
   "source": [
    "# Load np data and balance high and low label"
   ]
  },
  {
   "cell_type": "code",
   "execution_count": 11,
   "metadata": {},
   "outputs": [],
   "source": [
    "def load_np_data(dimension):\n",
    "    if dimension == 'valence':\n",
    "        all_labels, all_data = np.load('../Data/processed_DEAP/valence/' + 'all_valence_labels.npy', allow_pickle=True), np.load('../Data/processed_DEAP/valence/' + 'all_valence_data.npy', allow_pickle=True)\n",
    "        print(\"Total valence: \", all_labels.shape, all_data.shape)\n",
    "        #print(\"High and low valence: \", collections.Counter(all_labels))# 587 high valence, 472 low valence\n",
    "    elif dimension == 'arousal':\n",
    "        all_labels, all_data = np.load('../Data/processed_DEAP/arousal/' + 'all_arousal_labels.npy', allow_pickle=True), np.load('../Data/processed_DEAP/arousal/' + 'all_arousal_data.npy', allow_pickle=True)\n",
    "        print(\"Total arousal: \", all_labels.shape, all_data.shape)\n",
    "        #print(\"High and low arousal: \", collections.Counter(all_labels))# 620 high arousal, 462 low arousal\n",
    "    return all_labels, all_data"
   ]
  },
  {
   "cell_type": "code",
   "execution_count": 12,
   "metadata": {},
   "outputs": [
    {
     "name": "stdout",
     "output_type": "stream",
     "text": [
      "Total arousal:  (1082,) (1082, 32, 7680)\n"
     ]
    }
   ],
   "source": [
    "# all_labels, all_data = load_np_data(dimension=\"valence\")\n",
    "all_labels, all_data = load_np_data(dimension=\"arousal\")"
   ]
  },
  {
   "cell_type": "code",
   "execution_count": 13,
   "metadata": {},
   "outputs": [
    {
     "name": "stdout",
     "output_type": "stream",
     "text": [
      "64.64274117928039\n",
      "-84.21760335739728\n"
     ]
    }
   ],
   "source": [
    "# after standardised\n",
    "print(np.amax(all_data)) # max value\n",
    "print(np.amin(all_data)) # min value\n",
    "\n",
    "# print(np.amax(all_valence_data[0])) # max value\n",
    "# print(np.amin(all_valence_data[0])) # min value"
   ]
  },
  {
   "cell_type": "markdown",
   "metadata": {},
   "source": [
    "# Feature extraction method (Power)"
   ]
  },
  {
   "cell_type": "code",
   "execution_count": 14,
   "metadata": {},
   "outputs": [
    {
     "data": {
      "image/png": "[encoded data removed]",
      "text/plain": [
       "<Figure size 432x288 with 1 Axes>"
      ]
     },
     "metadata": {
      "needs_background": "light"
     },
     "output_type": "display_data"
    },
    {
     "data": {
      "image/png": "[encoded data removed]",
      "text/plain": [
       "<Figure size 432x288 with 1 Axes>"
      ]
     },
     "metadata": {
      "needs_background": "light"
     },
     "output_type": "display_data"
    }
   ],
   "source": [
    "f, Pxx_den = signal.welch(all_data[0][0], fs=128, window='hann', nperseg = 128, noverlap=64) # one channel\n",
    "plt.plot(f, Pxx_den)\n",
    "plt.ylim()\n",
    "plt.xlabel('frequency [Hz]')\n",
    "plt.ylabel('PSD')\n",
    "plt.show()\n",
    "\n",
    "y_int = integrate.cumtrapz(Pxx_den, f, initial=0)\n",
    "plt.plot(f, y_int)\n",
    "plt.ylim()\n",
    "plt.xlabel('sum')\n",
    "plt.ylabel('power')\n",
    "plt.show()"
   ]
  },
  {
   "cell_type": "code",
   "execution_count": 15,
   "metadata": {},
   "outputs": [],
   "source": [
    "def trial_psd_extraction2(data): # data shape (12, 7680)\n",
    "    all_channels_psd = []\n",
    "    \n",
    "    for channel in data:\n",
    "        f, Pxx_den = signal.welch(channel, fs=128, window='hann', nperseg = 128, noverlap=64)\n",
    "        y_int = integrate.cumtrapz(Pxx_den, f, initial=0) # integrate to calculate band power\n",
    "        channel_psd = np.array([y_int[7]-y_int[4],y_int[13]-y_int[8],y_int[30]-y_int[14],y_int[51]-y_int[31]])\n",
    "        all_channels_psd.append(channel_psd)\n",
    "    \n",
    "    all_channels_psd = np.array(all_channels_psd)\n",
    "    all_channels_psd = 100*all_channels_psd.reshape((32*4))\n",
    "\n",
    "    return all_channels_psd"
   ]
  },
  {
   "cell_type": "code",
   "execution_count": 16,
   "metadata": {},
   "outputs": [
    {
     "data": {
      "text/plain": [
       "array([20.98797141, 27.11409795, 32.18193636,  4.25991267, 27.84813741,\n",
       "       30.06121186, 36.48280336,  3.88975413, 31.33612216, 32.94840606,\n",
       "       39.04454267,  4.39139243, 31.551009  , 36.1669754 , 31.48911951,\n",
       "        5.36051545, 15.5243578 , 19.64571996, 16.57656258,  3.59752931,\n",
       "       15.3029972 , 16.83444616, 20.21291608,  2.86443797, 16.69377201,\n",
       "       23.69103638, 18.07509099,  3.60596935, 34.60630426, 38.07226073,\n",
       "       41.66168882, 17.84945413, 12.99624101, 34.65991343, 20.07486904,\n",
       "        4.26921253,  7.57254091, 18.32426534, 13.7675797 ,  1.72771009,\n",
       "       32.87512864, 51.11381791, 28.17513858,  5.71246678, 22.53485164,\n",
       "       53.84553412, 32.90166576, 10.38024335, 18.97507671, 64.5460392 ,\n",
       "       25.79501213,  5.89472418, 23.7564234 , 46.76307492, 32.70509425,\n",
       "       11.81796094, 25.21774446, 39.31332027, 24.96215728,  5.17582274,\n",
       "       10.43360128, 29.11148138, 15.4065594 ,  1.82128414, 38.13643976,\n",
       "       31.71529712, 33.1528522 ,  4.79309128, 27.88953734, 29.83608714,\n",
       "       28.91814773,  5.8580545 , 32.83207258, 29.99261397, 31.17531521,\n",
       "        2.81796469, 39.40799085, 33.84758676, 34.16274442,  4.17031818,\n",
       "       22.30597941, 31.32907797, 33.08595797,  5.29959553, 14.23037589,\n",
       "       24.41144271, 21.30226048,  3.56522813, 28.27750456, 24.57342224,\n",
       "       25.15605681,  2.98622366, 11.49133974,  9.94223479, 20.33953431,\n",
       "        1.85664626, 14.61436222, 21.905191  , 19.95216686,  3.23901507,\n",
       "       30.967042  , 36.81494424, 30.77526847,  8.63928451,  8.36278077,\n",
       "       24.27530657, 17.75067599,  3.21698268,  8.47444747, 15.29596748,\n",
       "       14.19201639,  1.60855046, 43.888426  , 46.32441486, 33.37233586,\n",
       "        6.781784  , 14.09876578, 30.70464771, 20.00048839,  6.27580811,\n",
       "       35.87111271, 50.88601217, 29.13789776,  4.23142406, 27.98103003,\n",
       "       44.9280629 , 25.58342575,  3.36747809])"
      ]
     },
     "execution_count": 16,
     "metadata": {},
     "output_type": "execute_result"
    }
   ],
   "source": [
    "trial_psd_extraction2(all_data[0])"
   ]
  },
  {
   "cell_type": "markdown",
   "metadata": {},
   "source": [
    "# 10-fold cross-validation"
   ]
  },
  {
   "cell_type": "code",
   "execution_count": 17,
   "metadata": {},
   "outputs": [
    {
     "name": "stdout",
     "output_type": "stream",
     "text": [
      "1082\n",
      "108\n",
      "(1080, 32, 7680)\n"
     ]
    }
   ],
   "source": [
    "all_data, all_labels = shuffle(all_data, all_labels, random_state=0)\n",
    "n = len(all_labels) # 1059\n",
    "print(n)\n",
    "fold_n = math.floor(n/10) # 105\n",
    "print(fold_n)\n",
    "all_data, all_labels = all_data[:10*fold_n], all_labels[:10*fold_n] # (1050, 32, 8064)  \n",
    "print(all_data.shape)"
   ]
  },
  {
   "cell_type": "code",
   "execution_count": 18,
   "metadata": {},
   "outputs": [],
   "source": [
    "def process(test_fold_number):\n",
    "    # train has 9 folds, test has 1 fold\n",
    "    train_data = np.concatenate((all_data[:test_fold_number*fold_n], all_data[fold_n+test_fold_number*fold_n:]), axis=0)\n",
    "    train_labels = np.concatenate((all_labels[:test_fold_number*fold_n], all_labels[fold_n+test_fold_number*fold_n:]), axis=0)\n",
    "    test_data = all_data[test_fold_number*fold_n : fold_n+test_fold_number*fold_n]\n",
    "    test_labels = all_labels[test_fold_number*fold_n : fold_n+test_fold_number*fold_n]\n",
    "    print(train_data.shape,test_data.shape) # (945, 32, 8064) (105, 32, 8064)\n",
    "    \n",
    "    # -------- Feature extraction from 32 signal --------\n",
    "    train_band_power = [] # band power feature sequence for train trials\n",
    "    for data in train_data: # for every train trial\n",
    "        trial_band_power = trial_psd_extraction2(data) # data shape (32, 8064)\n",
    "        train_band_power.append(trial_band_power)\n",
    "    train_band_power = np.array(train_band_power)\n",
    "\n",
    "    test_band_power = [] # band power feature sequence for test trials\n",
    "    for data in test_data: # for every test trial\n",
    "        trial_band_power = trial_psd_extraction2(data) # data shape (32, 8064)\n",
    "        test_band_power.append(trial_band_power)\n",
    "    test_band_power = np.array(test_band_power)\n",
    "    print(\"All features of training data shape: \", train_band_power.shape) # shape (953, 125, 128)\n",
    "    print(\"All features of test data shape: \", test_band_power.shape) # shape (106, 125, 128)\n",
    "    \n",
    "    # -------- Create new SVM model --------\n",
    "    from sklearn import svm\n",
    "    from sklearn import metrics\n",
    "\n",
    "    clf = svm.SVC(kernel='rbf')\n",
    "    clf.fit(train_band_power, train_labels)\n",
    "    \n",
    "    filename = '../Results/SVM/SVM_model_test_fold_' + str(test_fold_number) + '.sav'\n",
    "    pickle.dump(clf, open(filename, 'wb'))\n",
    "    \n",
    "    y_pred = clf.predict(test_band_power)\n",
    "    print(\"Accuracy: \",metrics.accuracy_score(test_labels, y_pred))"
   ]
  },
  {
   "cell_type": "code",
   "execution_count": 19,
   "metadata": {},
   "outputs": [
    {
     "name": "stdout",
     "output_type": "stream",
     "text": [
      "********** Test Fold 0 ************\n",
      "(972, 32, 7680) (108, 32, 7680)\n",
      "All features of training data shape:  (972, 128)\n",
      "All features of test data shape:  (108, 128)\n",
      "Accuracy:  0.7129629629629629\n",
      "********** Test Fold 1 ************\n",
      "(972, 32, 7680) (108, 32, 7680)\n",
      "All features of training data shape:  (972, 128)\n",
      "All features of test data shape:  (108, 128)\n",
      "Accuracy:  0.6944444444444444\n",
      "********** Test Fold 2 ************\n",
      "(972, 32, 7680) (108, 32, 7680)\n",
      "All features of training data shape:  (972, 128)\n",
      "All features of test data shape:  (108, 128)\n",
      "Accuracy:  0.6388888888888888\n",
      "********** Test Fold 3 ************\n",
      "(972, 32, 7680) (108, 32, 7680)\n",
      "All features of training data shape:  (972, 128)\n",
      "All features of test data shape:  (108, 128)\n",
      "Accuracy:  0.6203703703703703\n",
      "********** Test Fold 4 ************\n",
      "(972, 32, 7680) (108, 32, 7680)\n",
      "All features of training data shape:  (972, 128)\n",
      "All features of test data shape:  (108, 128)\n",
      "Accuracy:  0.5925925925925926\n",
      "********** Test Fold 5 ************\n",
      "(972, 32, 7680) (108, 32, 7680)\n",
      "All features of training data shape:  (972, 128)\n",
      "All features of test data shape:  (108, 128)\n",
      "Accuracy:  0.6944444444444444\n",
      "********** Test Fold 6 ************\n",
      "(972, 32, 7680) (108, 32, 7680)\n",
      "All features of training data shape:  (972, 128)\n",
      "All features of test data shape:  (108, 128)\n",
      "Accuracy:  0.6481481481481481\n",
      "********** Test Fold 7 ************\n",
      "(972, 32, 7680) (108, 32, 7680)\n",
      "All features of training data shape:  (972, 128)\n",
      "All features of test data shape:  (108, 128)\n",
      "Accuracy:  0.6944444444444444\n",
      "********** Test Fold 8 ************\n",
      "(972, 32, 7680) (108, 32, 7680)\n",
      "All features of training data shape:  (972, 128)\n",
      "All features of test data shape:  (108, 128)\n",
      "Accuracy:  0.6111111111111112\n",
      "********** Test Fold 9 ************\n",
      "(972, 32, 7680) (108, 32, 7680)\n",
      "All features of training data shape:  (972, 128)\n",
      "All features of test data shape:  (108, 128)\n",
      "Accuracy:  0.6666666666666666\n"
     ]
    }
   ],
   "source": [
    "for i in range(10):\n",
    "    print(\"********** Test Fold \" + str(i) + \" ************\")\n",
    "    process(i)"
   ]
  },
  {
   "cell_type": "markdown",
   "metadata": {},
   "source": [
    "# Test each section in process() function"
   ]
  },
  {
   "cell_type": "code",
   "execution_count": 47,
   "metadata": {},
   "outputs": [
    {
     "name": "stdout",
     "output_type": "stream",
     "text": [
      "(972, 32, 7680) (108, 32, 7680)\n"
     ]
    }
   ],
   "source": [
    "test_fold_number = 1\n",
    "\n",
    "# train has 9 folds, test has 1 fold\n",
    "train_data = np.concatenate((all_data[:test_fold_number*fold_n], all_data[fold_n+test_fold_number*fold_n:]), axis=0)\n",
    "train_labels = np.concatenate((all_labels[:test_fold_number*fold_n], all_labels[fold_n+test_fold_number*fold_n:]), axis=0)\n",
    "test_data = all_data[test_fold_number*fold_n : fold_n+test_fold_number*fold_n]\n",
    "test_labels = all_labels[test_fold_number*fold_n : fold_n+test_fold_number*fold_n]\n",
    "print(train_data.shape,test_data.shape) # (945, 32, 8064) (105, 32, 8064)"
   ]
  },
  {
   "cell_type": "code",
   "execution_count": 48,
   "metadata": {},
   "outputs": [
    {
     "name": "stdout",
     "output_type": "stream",
     "text": [
      "All features of training data shape:  (972, 128)\n",
      "All features of test data shape:  (108, 128)\n"
     ]
    }
   ],
   "source": [
    "# -------- Feature extraction from 32 signal --------\n",
    "train_band_power = [] # band power feature sequence for train trials\n",
    "for data in train_data: # for every train trial\n",
    "    trial_band_power = trial_psd_extraction2(data)\n",
    "    train_band_power.append(trial_band_power)\n",
    "train_band_power = np.array(train_band_power)\n",
    "\n",
    "test_band_power = [] # band power feature sequence for test trials\n",
    "for data in test_data: # for every test trial\n",
    "    trial_band_power = trial_psd_extraction2(data) # data shape (32, 8064)\n",
    "    test_band_power.append(trial_band_power)\n",
    "test_band_power = np.array(test_band_power)\n",
    "print(\"All features of training data shape: \", train_band_power.shape) # (945, 128)\n",
    "print(\"All features of test data shape: \", test_band_power.shape) # (105, 128)"
   ]
  },
  {
   "cell_type": "code",
   "execution_count": 49,
   "metadata": {},
   "outputs": [
    {
     "name": "stdout",
     "output_type": "stream",
     "text": [
      "1546.5971751041402\n",
      "0.0162455164955058\n"
     ]
    }
   ],
   "source": [
    "print(np.amax(train_band_power)) # max value\n",
    "print(np.amin(train_band_power)) # min value"
   ]
  },
  {
   "cell_type": "code",
   "execution_count": 50,
   "metadata": {},
   "outputs": [
    {
     "name": "stdout",
     "output_type": "stream",
     "text": [
      "Accuracy:  0.6944444444444444\n"
     ]
    }
   ],
   "source": [
    "# -------- Create new SVM model --------\n",
    "from sklearn import svm\n",
    "from sklearn import metrics\n",
    "\n",
    "clf = svm.SVC(kernel='rbf')\n",
    "clf.fit(train_band_power, train_labels)\n",
    "y_pred = clf.predict(test_band_power)\n",
    "print(\"Accuracy: \",metrics.accuracy_score(test_labels, y_pred))"
   ]
  }
 ],
 "metadata": {
  "kernelspec": {
   "display_name": "Python 3",
   "language": "python",
   "name": "python3"
  },
  "language_info": {
   "codemirror_mode": {
    "name": "ipython",
    "version": 3
   },
   "file_extension": ".py",
   "mimetype": "text/x-python",
   "name": "python",
   "nbconvert_exporter": "python",
   "pygments_lexer": "ipython3",
   "version": "3.6.6"
  }
 },
 "nbformat": 4,
 "nbformat_minor": 4
}
