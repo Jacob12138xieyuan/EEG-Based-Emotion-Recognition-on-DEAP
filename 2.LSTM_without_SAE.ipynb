{
 "cells": [
  {
   "cell_type": "markdown",
   "metadata": {},
   "source": [
    "# All Python packages"
   ]
  },
  {
   "cell_type": "code",
   "execution_count": null,
   "metadata": {},
   "outputs": [],
   "source": [
    "!pip3 install numpy\n",
    "!pip3 install sklearn\n",
    "!pip3 install scipy\n",
    "!pip3 install matplotlib\n",
    "!pip3 install tensorflow\n",
    "!pip3 install keras\n",
    "!pip3 install mne"
   ]
  },
  {
   "cell_type": "code",
   "execution_count": 2,
   "metadata": {},
   "outputs": [],
   "source": [
    "from IPython.utils import io\n",
    "import numpy as np\n",
    "import collections\n",
    "\n",
    "from sklearn.preprocessing import StandardScaler, MinMaxScaler\n",
    "from sklearn.utils import shuffle\n",
    "\n",
    "import scipy.io\n",
    "from scipy import signal, integrate\n",
    "import matplotlib.pyplot as plt\n",
    "\n",
    "import keras\n",
    "from keras.models import Model\n",
    "from keras.layers import Input, Dense, LSTM, Dropout\n",
    "\n",
    "import mne\n",
    "import eeg_entropy\n",
    "import math\n",
    "\n",
    "n_second = 60\n",
    "n_segment = 2*n_second-1\n",
    "n_points = n_second*128"
   ]
  },
  {
   "cell_type": "markdown",
   "metadata": {},
   "source": [
    "# Load np data and balance high and low label"
   ]
  },
  {
   "cell_type": "code",
   "execution_count": 3,
   "metadata": {},
   "outputs": [],
   "source": [
    "def load_np_data(dimension):\n",
    "    if dimension == 'valence':\n",
    "        all_labels, all_data = np.load('../Data/processed_DEAP/valence/' + 'all_valence_labels.npy', allow_pickle=True), np.load('../Data/processed_DEAP/valence/' + 'all_valence_data.npy', allow_pickle=True)\n",
    "        print(\"Total valence: \", all_labels.shape, all_data.shape)\n",
    "        #print(\"High and low valence: \", collections.Counter(all_labels))# 587 high valence, 472 low valence\n",
    "    elif dimension == 'arousal':\n",
    "        all_labels, all_data = np.load('../Data/processed_DEAP/arousal/' + 'all_arousal_labels.npy', allow_pickle=True), np.load('../Data/processed_DEAP/arousal/' + 'all_arousal_data.npy', allow_pickle=True)\n",
    "        print(\"Total arousal: \", all_labels.shape, all_data.shape)\n",
    "        #print(\"High and low arousal: \", collections.Counter(all_labels))# 620 high arousal, 462 low arousal\n",
    "    return all_labels, all_data"
   ]
  },
  {
   "cell_type": "code",
   "execution_count": 4,
   "metadata": {},
   "outputs": [
    {
     "name": "stdout",
     "output_type": "stream",
     "text": [
      "Total arousal:  (1082,) (1082, 32, 7680)\n"
     ]
    }
   ],
   "source": [
    "# all_labels, all_data = load_np_data(dimension=\"valence\")\n",
    "all_labels, all_data = load_np_data(dimension=\"arousal\")"
   ]
  },
  {
   "cell_type": "code",
   "execution_count": 19,
   "metadata": {},
   "outputs": [
    {
     "name": "stdout",
     "output_type": "stream",
     "text": [
      "64.64274117928039\n",
      "-84.21760335739728\n"
     ]
    }
   ],
   "source": [
    "# after standardised\n",
    "print(np.amax(all_data)) # max value\n",
    "print(np.amin(all_data)) # min value\n",
    "\n",
    "# print(np.amax(all_valence_data[0])) # max value\n",
    "# print(np.amin(all_valence_data[0])) # min value"
   ]
  },
  {
   "cell_type": "markdown",
   "metadata": {},
   "source": [
    "# Feature extraction method (Power)"
   ]
  },
  {
   "cell_type": "code",
   "execution_count": 11,
   "metadata": {},
   "outputs": [],
   "source": [
    "def trial_psd_extraction_integration(data): # data shape (12, 8064)\n",
    "    info = mne.create_info(ch_names= ['1','2','3','4','5','6','7','8','9','10','11','12','13','14','15','16','17','18','19','20','21','22','23','24','25','26','27','28','29','30','31','32'], sfreq=128);\n",
    "    raw = mne.io.RawArray(data, info, first_samp=0, copy='auto', verbose=None);\n",
    "    psd_origin, f = mne.time_frequency.psd_welch(raw, fmin=0, fmax=60, n_fft=128, n_overlap=64, n_per_seg=128, picks='all', window='hann', average=None, verbose=None)# average='mean' or None\n",
    "    # print(psd_origin.shape, f.shape) # (12, 61, 125) (61,) 61 frequency\n",
    "    psd = np.moveaxis(psd_origin, -1, 0) # (125, 12, 61)\n",
    "    # calculate frequency band power using integration\n",
    "    band_power = [] # band power for all segments\n",
    "    for segment in psd:\n",
    "        segment_band_power = [] # band power for all channels in one segment\n",
    "        for psd_channel in segment:\n",
    "            y_int = integrate.cumtrapz(psd_channel, f, initial=0) # integrate to calculate band power\n",
    "            one_band_power = np.array([y_int[7]-y_int[4],y_int[13]-y_int[8],y_int[30]-y_int[14],y_int[51]-y_int[31]])\n",
    "            segment_band_power.append(one_band_power)\n",
    "        band_power.append(segment_band_power)\n",
    "    band_power = np.array(band_power) # (125, 12, 4)\n",
    "    band_power = np.moveaxis(band_power, -1, 1) # (125, 4, 12)\n",
    "    band_power = band_power.reshape((n_segment, 32*4)) # flatten feature (125, 48)\n",
    "    band_power = 10*band_power\n",
    "    return band_power"
   ]
  },
  {
   "cell_type": "markdown",
   "metadata": {},
   "source": [
    "# 10-fold cross-validation"
   ]
  },
  {
   "cell_type": "code",
   "execution_count": 6,
   "metadata": {},
   "outputs": [
    {
     "name": "stdout",
     "output_type": "stream",
     "text": [
      "1082\n",
      "108\n",
      "(1080, 32, 7680)\n"
     ]
    }
   ],
   "source": [
    "all_data, all_labels = shuffle(all_data, all_labels, random_state=0)\n",
    "n = len(all_labels) # 1059\n",
    "print(n)\n",
    "fold_n = math.floor(n/10) # 105\n",
    "print(fold_n)\n",
    "all_data, all_labels = all_data[:10*fold_n], all_labels[:10*fold_n] # (1050, 32, 8064)  \n",
    "print(all_data.shape)"
   ]
  },
  {
   "cell_type": "code",
   "execution_count": 22,
   "metadata": {},
   "outputs": [],
   "source": [
    "def process(test_fold_number):\n",
    "    # train has 9 folds, test has 1 fold\n",
    "    train_data = np.concatenate((all_data[:test_fold_number*fold_n], all_data[fold_n+test_fold_number*fold_n:]), axis=0)\n",
    "    train_labels = np.concatenate((all_labels[:test_fold_number*fold_n], all_labels[fold_n+test_fold_number*fold_n:]), axis=0)\n",
    "    test_data = all_data[test_fold_number*fold_n : fold_n+test_fold_number*fold_n]\n",
    "    test_labels = all_labels[test_fold_number*fold_n : fold_n+test_fold_number*fold_n]\n",
    "    print(train_data.shape,test_data.shape) # (945, 32, 8064) (105, 32, 8064)\n",
    "    \n",
    "    # -------- Feature extraction from 32 original signal --------\n",
    "    train_band_power = [] # band power feature sequence for train trials\n",
    "    for data in train_data: # for every train trial\n",
    "        with io.capture_output() as captured:\n",
    "            trial_band_power = trial_psd_extraction_integration(data) # data shape (32, 8064)\n",
    "        train_band_power.append(trial_band_power)\n",
    "    train_band_power = np.array(train_band_power)\n",
    "    \n",
    "    test_band_power = [] # band power feature sequence for test trials\n",
    "    for data in test_data: # for every test trial\n",
    "        with io.capture_output() as captured:\n",
    "            trial_band_power = trial_psd_extraction_integration(data) # data shape (32, 8064)\n",
    "        test_band_power.append(trial_band_power)\n",
    "    test_band_power = np.array(test_band_power)\n",
    "    print(\"All features of training data shape: \", train_band_power.shape) # shape (849, 125, 128)\n",
    "    print(\"All features of test data shape: \", test_band_power.shape) # shape (95, 125, 128)\n",
    "    \n",
    "    # -------- Create new LSTM model --------\n",
    "    x=Input(shape=(n_segment,4*32)) # flatten (12,4) to 48\n",
    "    x1=LSTM(n_segment)(x)\n",
    "    x2=Dense(n_segment)(x1)\n",
    "    x3=Dense(12)(x2)\n",
    "    output=Dense(1, activation=\"sigmoid\")(x2)\n",
    "    model=Model(x, output)\n",
    "\n",
    "    # -------- Compile and train LSTM --------\n",
    "    model.compile(optimizer='SGD', loss='mse', metrics=['accuracy'])\n",
    "    history = model.fit(train_band_power, train_labels, epochs=30, batch_size=8, validation_data=(test_band_power, test_labels))\n",
    "    print(\"Hightest accuracy: \" + str(max(history.history['val_accuracy'])))\n",
    "    model.save(\"../Results/LSTM_model/LSTM_model_test_fold_\" + str(test_fold_number))\n",
    "    "
   ]
  },
  {
   "cell_type": "code",
   "execution_count": 23,
   "metadata": {},
   "outputs": [
    {
     "name": "stdout",
     "output_type": "stream",
     "text": [
      "********** Test Fold 0 ************\n",
      "(972, 32, 7680) (108, 32, 7680)\n",
      "All features of training data shape:  (972, 119, 128)\n",
      "All features of test data shape:  (108, 119, 128)\n",
      "Epoch 1/30\n",
      "122/122 [==============================] - 9s 59ms/step - loss: 0.2575 - accuracy: 0.5167 - val_loss: 0.2316 - val_accuracy: 0.6389\n",
      "Epoch 2/30\n",
      "122/122 [==============================] - 7s 59ms/step - loss: 0.2220 - accuracy: 0.6501 - val_loss: 0.2239 - val_accuracy: 0.6389\n",
      "Epoch 3/30\n",
      "122/122 [==============================] - 7s 58ms/step - loss: 0.2174 - accuracy: 0.6887 - val_loss: 0.2211 - val_accuracy: 0.6481\n",
      "Epoch 4/30\n",
      "122/122 [==============================] - 7s 59ms/step - loss: 0.2049 - accuracy: 0.6957 - val_loss: 0.2225 - val_accuracy: 0.6204\n",
      "Epoch 5/30\n",
      "122/122 [==============================] - 7s 58ms/step - loss: 0.1883 - accuracy: 0.7549 - val_loss: 0.2197 - val_accuracy: 0.6667\n",
      "Epoch 6/30\n",
      "122/122 [==============================] - 7s 55ms/step - loss: 0.1855 - accuracy: 0.7554 - val_loss: 0.2210 - val_accuracy: 0.6944\n",
      "Epoch 7/30\n",
      "122/122 [==============================] - 7s 58ms/step - loss: 0.1898 - accuracy: 0.7222 - val_loss: 0.2127 - val_accuracy: 0.6944\n",
      "Epoch 8/30\n",
      "122/122 [==============================] - 7s 58ms/step - loss: 0.1805 - accuracy: 0.7485 - val_loss: 0.2178 - val_accuracy: 0.6759\n",
      "Epoch 9/30\n",
      "122/122 [==============================] - 7s 56ms/step - loss: 0.1657 - accuracy: 0.7812 - val_loss: 0.2281 - val_accuracy: 0.6111\n",
      "Epoch 10/30\n",
      "122/122 [==============================] - 6s 53ms/step - loss: 0.1709 - accuracy: 0.7610 - val_loss: 0.2201 - val_accuracy: 0.6667\n",
      "Epoch 11/30\n",
      "122/122 [==============================] - 7s 54ms/step - loss: 0.1693 - accuracy: 0.7578 - val_loss: 0.2234 - val_accuracy: 0.6204\n",
      "Epoch 12/30\n",
      "122/122 [==============================] - 7s 54ms/step - loss: 0.1555 - accuracy: 0.8057 - val_loss: 0.2225 - val_accuracy: 0.6574\n",
      "Epoch 13/30\n",
      "122/122 [==============================] - 7s 54ms/step - loss: 0.1512 - accuracy: 0.8034 - val_loss: 0.2204 - val_accuracy: 0.6481\n",
      "Epoch 14/30\n",
      "122/122 [==============================] - 7s 53ms/step - loss: 0.1475 - accuracy: 0.8094 - val_loss: 0.2315 - val_accuracy: 0.5833\n",
      "Epoch 15/30\n",
      "122/122 [==============================] - 7s 57ms/step - loss: 0.1457 - accuracy: 0.8194 - val_loss: 0.2310 - val_accuracy: 0.6481\n",
      "Epoch 16/30\n",
      "122/122 [==============================] - 7s 55ms/step - loss: 0.1438 - accuracy: 0.8045 - val_loss: 0.2244 - val_accuracy: 0.6204\n",
      "Epoch 17/30\n",
      "122/122 [==============================] - 6s 53ms/step - loss: 0.1364 - accuracy: 0.8158 - val_loss: 0.2265 - val_accuracy: 0.6296\n",
      "Epoch 18/30\n",
      "122/122 [==============================] - 6s 53ms/step - loss: 0.1389 - accuracy: 0.8215 - val_loss: 0.2193 - val_accuracy: 0.6389\n",
      "Epoch 19/30\n",
      "122/122 [==============================] - 6s 53ms/step - loss: 0.1314 - accuracy: 0.8183 - val_loss: 0.2167 - val_accuracy: 0.6296\n",
      "Epoch 20/30\n",
      "122/122 [==============================] - 6s 53ms/step - loss: 0.1288 - accuracy: 0.8454 - val_loss: 0.2201 - val_accuracy: 0.6852\n",
      "Epoch 21/30\n",
      "122/122 [==============================] - 6s 53ms/step - loss: 0.1215 - accuracy: 0.8330 - val_loss: 0.2179 - val_accuracy: 0.6111\n",
      "Epoch 22/30\n",
      "122/122 [==============================] - 6s 53ms/step - loss: 0.1090 - accuracy: 0.8646 - val_loss: 0.2279 - val_accuracy: 0.6481\n",
      "Epoch 23/30\n",
      "122/122 [==============================] - 6s 53ms/step - loss: 0.1013 - accuracy: 0.8886 - val_loss: 0.2298 - val_accuracy: 0.6296\n",
      "Epoch 24/30\n",
      "122/122 [==============================] - 7s 54ms/step - loss: 0.1004 - accuracy: 0.8801 - val_loss: 0.2250 - val_accuracy: 0.6296\n",
      "Epoch 25/30\n",
      "122/122 [==============================] - 7s 56ms/step - loss: 0.1077 - accuracy: 0.8753 - val_loss: 0.2344 - val_accuracy: 0.6574\n",
      "Epoch 26/30\n",
      "122/122 [==============================] - 7s 56ms/step - loss: 0.0995 - accuracy: 0.8808 - val_loss: 0.2462 - val_accuracy: 0.5833\n",
      "Epoch 27/30\n",
      "122/122 [==============================] - 7s 57ms/step - loss: 0.0904 - accuracy: 0.8932 - val_loss: 0.2350 - val_accuracy: 0.6389\n",
      "Epoch 28/30\n",
      "122/122 [==============================] - 7s 55ms/step - loss: 0.0900 - accuracy: 0.8864 - val_loss: 0.2574 - val_accuracy: 0.6389\n",
      "Epoch 29/30\n",
      "122/122 [==============================] - 7s 55ms/step - loss: 0.0823 - accuracy: 0.9320 - val_loss: 0.2436 - val_accuracy: 0.5926\n",
      "Epoch 30/30\n",
      "122/122 [==============================] - 7s 55ms/step - loss: 0.0869 - accuracy: 0.9035 - val_loss: 0.2500 - val_accuracy: 0.6019\n",
      "Hightest accuracy: 0.6944444179534912\n"
     ]
    },
    {
     "name": "stderr",
     "output_type": "stream",
     "text": [
      "WARNING:absl:Found untraced functions such as lstm_cell_10_layer_call_and_return_conditional_losses, lstm_cell_10_layer_call_fn, lstm_cell_10_layer_call_fn, lstm_cell_10_layer_call_and_return_conditional_losses, lstm_cell_10_layer_call_and_return_conditional_losses while saving (showing 5 of 5). These functions will not be directly callable after loading.\n",
      "WARNING:absl:Found untraced functions such as lstm_cell_10_layer_call_and_return_conditional_losses, lstm_cell_10_layer_call_fn, lstm_cell_10_layer_call_fn, lstm_cell_10_layer_call_and_return_conditional_losses, lstm_cell_10_layer_call_and_return_conditional_losses while saving (showing 5 of 5). These functions will not be directly callable after loading.\n"
     ]
    },
    {
     "name": "stdout",
     "output_type": "stream",
     "text": [
      "INFO:tensorflow:Assets written to: ../Results/LSTM_model/LSTM_model_test_fold_0\\assets\n"
     ]
    },
    {
     "name": "stderr",
     "output_type": "stream",
     "text": [
      "INFO:tensorflow:Assets written to: ../Results/LSTM_model/LSTM_model_test_fold_0\\assets\n"
     ]
    },
    {
     "name": "stdout",
     "output_type": "stream",
     "text": [
      "********** Test Fold 1 ************\n",
      "(972, 32, 7680) (108, 32, 7680)\n",
      "All features of training data shape:  (972, 119, 128)\n",
      "All features of test data shape:  (108, 119, 128)\n",
      "Epoch 1/30\n",
      "122/122 [==============================] - 8s 54ms/step - loss: 0.2507 - accuracy: 0.5588 - val_loss: 0.2446 - val_accuracy: 0.6111\n",
      "Epoch 2/30\n",
      "122/122 [==============================] - 6s 50ms/step - loss: 0.2189 - accuracy: 0.6687 - val_loss: 0.2432 - val_accuracy: 0.6389\n",
      "Epoch 3/30\n",
      "122/122 [==============================] - 6s 52ms/step - loss: 0.1986 - accuracy: 0.7123 - val_loss: 0.2429 - val_accuracy: 0.6204\n",
      "Epoch 4/30\n",
      "122/122 [==============================] - 6s 52ms/step - loss: 0.1920 - accuracy: 0.7085 - val_loss: 0.2408 - val_accuracy: 0.6389\n",
      "Epoch 5/30\n",
      "122/122 [==============================] - 6s 51ms/step - loss: 0.1939 - accuracy: 0.7173 - val_loss: 0.2340 - val_accuracy: 0.6667\n",
      "Epoch 6/30\n",
      "122/122 [==============================] - 6s 53ms/step - loss: 0.1877 - accuracy: 0.7342 - val_loss: 0.2354 - val_accuracy: 0.6204\n",
      "Epoch 7/30\n",
      "122/122 [==============================] - 7s 56ms/step - loss: 0.1831 - accuracy: 0.7399 - val_loss: 0.2365 - val_accuracy: 0.6481\n",
      "Epoch 8/30\n",
      "122/122 [==============================] - 7s 56ms/step - loss: 0.1713 - accuracy: 0.7703 - val_loss: 0.2383 - val_accuracy: 0.6667\n",
      "Epoch 9/30\n",
      "122/122 [==============================] - 7s 57ms/step - loss: 0.1711 - accuracy: 0.7721 - val_loss: 0.2369 - val_accuracy: 0.6852\n",
      "Epoch 10/30\n",
      "122/122 [==============================] - 7s 56ms/step - loss: 0.1798 - accuracy: 0.7449 - val_loss: 0.2385 - val_accuracy: 0.6667\n",
      "Epoch 11/30\n",
      "122/122 [==============================] - 7s 56ms/step - loss: 0.1596 - accuracy: 0.7863 - val_loss: 0.2421 - val_accuracy: 0.6481\n",
      "Epoch 12/30\n",
      "122/122 [==============================] - 7s 55ms/step - loss: 0.1553 - accuracy: 0.7931 - val_loss: 0.2355 - val_accuracy: 0.6759\n",
      "Epoch 13/30\n",
      "122/122 [==============================] - 7s 57ms/step - loss: 0.1469 - accuracy: 0.8121 - val_loss: 0.2366 - val_accuracy: 0.6759\n",
      "Epoch 14/30\n",
      "122/122 [==============================] - 7s 58ms/step - loss: 0.1454 - accuracy: 0.8285 - val_loss: 0.2414 - val_accuracy: 0.6574\n",
      "Epoch 15/30\n",
      "122/122 [==============================] - 7s 54ms/step - loss: 0.1452 - accuracy: 0.8147 - val_loss: 0.2398 - val_accuracy: 0.6481\n",
      "Epoch 16/30\n",
      "122/122 [==============================] - 7s 55ms/step - loss: 0.1305 - accuracy: 0.8487 - val_loss: 0.2425 - val_accuracy: 0.6759\n",
      "Epoch 17/30\n",
      "122/122 [==============================] - 7s 56ms/step - loss: 0.1350 - accuracy: 0.8333 - val_loss: 0.2414 - val_accuracy: 0.6481\n",
      "Epoch 18/30\n",
      "122/122 [==============================] - 7s 57ms/step - loss: 0.1343 - accuracy: 0.8424 - val_loss: 0.2459 - val_accuracy: 0.6481\n",
      "Epoch 19/30\n",
      "122/122 [==============================] - 7s 56ms/step - loss: 0.1246 - accuracy: 0.8346 - val_loss: 0.2457 - val_accuracy: 0.5926\n",
      "Epoch 20/30\n",
      "122/122 [==============================] - 7s 56ms/step - loss: 0.1159 - accuracy: 0.8595 - val_loss: 0.2441 - val_accuracy: 0.6481\n",
      "Epoch 21/30\n",
      "122/122 [==============================] - 7s 54ms/step - loss: 0.1119 - accuracy: 0.8684 - val_loss: 0.2506 - val_accuracy: 0.5833\n",
      "Epoch 22/30\n",
      "122/122 [==============================] - 7s 56ms/step - loss: 0.1055 - accuracy: 0.8884 - val_loss: 0.2579 - val_accuracy: 0.5926\n",
      "Epoch 23/30\n",
      "122/122 [==============================] - 7s 57ms/step - loss: 0.1120 - accuracy: 0.8703 - val_loss: 0.2448 - val_accuracy: 0.6204\n",
      "Epoch 24/30\n",
      "122/122 [==============================] - 7s 56ms/step - loss: 0.1029 - accuracy: 0.8852 - val_loss: 0.2482 - val_accuracy: 0.6296\n",
      "Epoch 25/30\n",
      "122/122 [==============================] - 7s 57ms/step - loss: 0.1059 - accuracy: 0.8789 - val_loss: 0.2548 - val_accuracy: 0.6019\n",
      "Epoch 26/30\n",
      "122/122 [==============================] - 7s 57ms/step - loss: 0.0899 - accuracy: 0.9143 - val_loss: 0.2387 - val_accuracy: 0.6296\n",
      "Epoch 27/30\n",
      "122/122 [==============================] - 7s 56ms/step - loss: 0.0824 - accuracy: 0.9128 - val_loss: 0.2662 - val_accuracy: 0.6019\n",
      "Epoch 28/30\n",
      "122/122 [==============================] - 7s 57ms/step - loss: 0.0929 - accuracy: 0.8892 - val_loss: 0.2553 - val_accuracy: 0.6204\n",
      "Epoch 29/30\n",
      "122/122 [==============================] - 7s 57ms/step - loss: 0.0820 - accuracy: 0.9211 - val_loss: 0.2533 - val_accuracy: 0.6389\n",
      "Epoch 30/30\n",
      "122/122 [==============================] - 7s 57ms/step - loss: 0.0791 - accuracy: 0.9228 - val_loss: 0.2543 - val_accuracy: 0.6204\n",
      "Hightest accuracy: 0.6851851940155029\n"
     ]
    },
    {
     "name": "stderr",
     "output_type": "stream",
     "text": [
      "WARNING:absl:Found untraced functions such as lstm_cell_11_layer_call_and_return_conditional_losses, lstm_cell_11_layer_call_fn, lstm_cell_11_layer_call_fn, lstm_cell_11_layer_call_and_return_conditional_losses, lstm_cell_11_layer_call_and_return_conditional_losses while saving (showing 5 of 5). These functions will not be directly callable after loading.\n",
      "WARNING:absl:Found untraced functions such as lstm_cell_11_layer_call_and_return_conditional_losses, lstm_cell_11_layer_call_fn, lstm_cell_11_layer_call_fn, lstm_cell_11_layer_call_and_return_conditional_losses, lstm_cell_11_layer_call_and_return_conditional_losses while saving (showing 5 of 5). These functions will not be directly callable after loading.\n"
     ]
    },
    {
     "name": "stdout",
     "output_type": "stream",
     "text": [
      "INFO:tensorflow:Assets written to: ../Results/LSTM_model/LSTM_model_test_fold_1\\assets\n"
     ]
    },
    {
     "name": "stderr",
     "output_type": "stream",
     "text": [
      "INFO:tensorflow:Assets written to: ../Results/LSTM_model/LSTM_model_test_fold_1\\assets\n"
     ]
    },
    {
     "name": "stdout",
     "output_type": "stream",
     "text": [
      "********** Test Fold 2 ************\n",
      "(972, 32, 7680) (108, 32, 7680)\n",
      "All features of training data shape:  (972, 119, 128)\n",
      "All features of test data shape:  (108, 119, 128)\n",
      "Epoch 1/30\n",
      "122/122 [==============================] - 8s 59ms/step - loss: 0.2446 - accuracy: 0.5681 - val_loss: 0.2381 - val_accuracy: 0.6296\n",
      "Epoch 2/30\n",
      "122/122 [==============================] - 7s 54ms/step - loss: 0.2169 - accuracy: 0.6553 - val_loss: 0.2266 - val_accuracy: 0.6389\n",
      "Epoch 3/30\n",
      "122/122 [==============================] - 7s 55ms/step - loss: 0.2060 - accuracy: 0.6919 - val_loss: 0.2289 - val_accuracy: 0.6389\n",
      "Epoch 4/30\n",
      "122/122 [==============================] - 7s 55ms/step - loss: 0.2025 - accuracy: 0.7032 - val_loss: 0.2214 - val_accuracy: 0.6481\n",
      "Epoch 5/30\n",
      "122/122 [==============================] - 7s 55ms/step - loss: 0.2058 - accuracy: 0.6905 - val_loss: 0.2261 - val_accuracy: 0.6204\n",
      "Epoch 6/30\n",
      "122/122 [==============================] - 7s 54ms/step - loss: 0.2061 - accuracy: 0.6847 - val_loss: 0.2203 - val_accuracy: 0.6481\n",
      "Epoch 7/30\n",
      "122/122 [==============================] - 7s 56ms/step - loss: 0.1860 - accuracy: 0.7223 - val_loss: 0.2154 - val_accuracy: 0.6574\n",
      "Epoch 8/30\n",
      "122/122 [==============================] - 7s 55ms/step - loss: 0.1868 - accuracy: 0.7197 - val_loss: 0.2196 - val_accuracy: 0.6574\n",
      "Epoch 9/30\n",
      "122/122 [==============================] - 7s 55ms/step - loss: 0.1802 - accuracy: 0.7154 - val_loss: 0.2216 - val_accuracy: 0.6574\n",
      "Epoch 10/30\n",
      "122/122 [==============================] - 7s 55ms/step - loss: 0.1706 - accuracy: 0.7600 - val_loss: 0.2150 - val_accuracy: 0.6852\n",
      "Epoch 11/30\n",
      "122/122 [==============================] - 7s 55ms/step - loss: 0.1739 - accuracy: 0.7599 - val_loss: 0.2163 - val_accuracy: 0.6667\n",
      "Epoch 12/30\n",
      "122/122 [==============================] - 7s 55ms/step - loss: 0.1631 - accuracy: 0.7600 - val_loss: 0.2193 - val_accuracy: 0.6667\n",
      "Epoch 13/30\n",
      "122/122 [==============================] - 7s 55ms/step - loss: 0.1537 - accuracy: 0.7790 - val_loss: 0.2254 - val_accuracy: 0.6296\n",
      "Epoch 14/30\n",
      "122/122 [==============================] - 7s 57ms/step - loss: 0.1557 - accuracy: 0.7915 - val_loss: 0.2244 - val_accuracy: 0.6574\n",
      "Epoch 15/30\n",
      "122/122 [==============================] - 7s 60ms/step - loss: 0.1434 - accuracy: 0.8145 - val_loss: 0.2233 - val_accuracy: 0.6574\n",
      "Epoch 16/30\n",
      "122/122 [==============================] - 7s 60ms/step - loss: 0.1469 - accuracy: 0.8008 - val_loss: 0.2179 - val_accuracy: 0.7037\n",
      "Epoch 17/30\n",
      "122/122 [==============================] - 7s 61ms/step - loss: 0.1455 - accuracy: 0.8000 - val_loss: 0.2251 - val_accuracy: 0.6759\n",
      "Epoch 18/30\n",
      "122/122 [==============================] - 7s 61ms/step - loss: 0.1480 - accuracy: 0.8079 - val_loss: 0.2241 - val_accuracy: 0.6481\n",
      "Epoch 19/30\n",
      "122/122 [==============================] - 7s 61ms/step - loss: 0.1329 - accuracy: 0.8327 - val_loss: 0.2303 - val_accuracy: 0.6296\n",
      "Epoch 20/30\n",
      "122/122 [==============================] - 7s 61ms/step - loss: 0.1327 - accuracy: 0.8302 - val_loss: 0.2320 - val_accuracy: 0.6574\n",
      "Epoch 21/30\n",
      "122/122 [==============================] - 7s 60ms/step - loss: 0.1263 - accuracy: 0.8354 - val_loss: 0.2325 - val_accuracy: 0.6759\n",
      "Epoch 22/30\n",
      "122/122 [==============================] - 7s 61ms/step - loss: 0.1281 - accuracy: 0.8408 - val_loss: 0.2415 - val_accuracy: 0.6296\n",
      "Epoch 23/30\n",
      "122/122 [==============================] - 7s 60ms/step - loss: 0.1179 - accuracy: 0.8469 - val_loss: 0.2413 - val_accuracy: 0.6481\n",
      "Epoch 24/30\n",
      "122/122 [==============================] - 7s 61ms/step - loss: 0.1163 - accuracy: 0.8838 - val_loss: 0.2388 - val_accuracy: 0.6481\n",
      "Epoch 25/30\n",
      "122/122 [==============================] - 7s 60ms/step - loss: 0.1066 - accuracy: 0.8799 - val_loss: 0.2438 - val_accuracy: 0.6389\n",
      "Epoch 26/30\n",
      "122/122 [==============================] - 7s 61ms/step - loss: 0.1135 - accuracy: 0.8581 - val_loss: 0.2380 - val_accuracy: 0.6759\n",
      "Epoch 27/30\n",
      "122/122 [==============================] - 7s 60ms/step - loss: 0.1071 - accuracy: 0.8760 - val_loss: 0.2537 - val_accuracy: 0.6574\n",
      "Epoch 28/30\n",
      "122/122 [==============================] - 7s 60ms/step - loss: 0.1061 - accuracy: 0.8716 - val_loss: 0.2678 - val_accuracy: 0.6389\n",
      "Epoch 29/30\n",
      "122/122 [==============================] - 7s 60ms/step - loss: 0.1022 - accuracy: 0.8811 - val_loss: 0.2494 - val_accuracy: 0.6481\n",
      "Epoch 30/30\n",
      "122/122 [==============================] - 7s 60ms/step - loss: 0.0909 - accuracy: 0.9059 - val_loss: 0.2573 - val_accuracy: 0.6389\n",
      "Hightest accuracy: 0.7037037014961243\n"
     ]
    },
    {
     "name": "stderr",
     "output_type": "stream",
     "text": [
      "WARNING:absl:Found untraced functions such as lstm_cell_12_layer_call_and_return_conditional_losses, lstm_cell_12_layer_call_fn, lstm_cell_12_layer_call_fn, lstm_cell_12_layer_call_and_return_conditional_losses, lstm_cell_12_layer_call_and_return_conditional_losses while saving (showing 5 of 5). These functions will not be directly callable after loading.\n",
      "WARNING:absl:Found untraced functions such as lstm_cell_12_layer_call_and_return_conditional_losses, lstm_cell_12_layer_call_fn, lstm_cell_12_layer_call_fn, lstm_cell_12_layer_call_and_return_conditional_losses, lstm_cell_12_layer_call_and_return_conditional_losses while saving (showing 5 of 5). These functions will not be directly callable after loading.\n"
     ]
    },
    {
     "name": "stdout",
     "output_type": "stream",
     "text": [
      "INFO:tensorflow:Assets written to: ../Results/LSTM_model/LSTM_model_test_fold_2\\assets\n"
     ]
    },
    {
     "name": "stderr",
     "output_type": "stream",
     "text": [
      "INFO:tensorflow:Assets written to: ../Results/LSTM_model/LSTM_model_test_fold_2\\assets\n"
     ]
    },
    {
     "name": "stdout",
     "output_type": "stream",
     "text": [
      "********** Test Fold 3 ************\n",
      "(972, 32, 7680) (108, 32, 7680)\n",
      "All features of training data shape:  (972, 119, 128)\n",
      "All features of test data shape:  (108, 119, 128)\n",
      "Epoch 1/30\n",
      "122/122 [==============================] - 10s 68ms/step - loss: 0.2414 - accuracy: 0.5821 - val_loss: 0.2402 - val_accuracy: 0.6019\n",
      "Epoch 2/30\n",
      "122/122 [==============================] - 8s 64ms/step - loss: 0.2234 - accuracy: 0.6383 - val_loss: 0.2386 - val_accuracy: 0.6019\n",
      "Epoch 3/30\n",
      "122/122 [==============================] - 8s 65ms/step - loss: 0.2055 - accuracy: 0.6996 - val_loss: 0.2391 - val_accuracy: 0.6204\n",
      "Epoch 4/30\n",
      "122/122 [==============================] - 8s 64ms/step - loss: 0.1980 - accuracy: 0.7104 - val_loss: 0.2396 - val_accuracy: 0.6019\n",
      "Epoch 5/30\n",
      "122/122 [==============================] - 8s 64ms/step - loss: 0.1909 - accuracy: 0.7384 - val_loss: 0.2423 - val_accuracy: 0.6204\n",
      "Epoch 6/30\n",
      "122/122 [==============================] - 8s 64ms/step - loss: 0.1881 - accuracy: 0.7538 - val_loss: 0.2416 - val_accuracy: 0.6296\n",
      "Epoch 7/30\n",
      "122/122 [==============================] - 8s 64ms/step - loss: 0.1872 - accuracy: 0.7565 - val_loss: 0.2384 - val_accuracy: 0.5833\n",
      "Epoch 8/30\n",
      "122/122 [==============================] - 8s 64ms/step - loss: 0.1761 - accuracy: 0.7407 - val_loss: 0.2427 - val_accuracy: 0.6019\n",
      "Epoch 9/30\n",
      "122/122 [==============================] - 8s 64ms/step - loss: 0.1718 - accuracy: 0.7728 - val_loss: 0.2409 - val_accuracy: 0.6204\n",
      "Epoch 10/30\n",
      "122/122 [==============================] - 8s 64ms/step - loss: 0.1696 - accuracy: 0.7844 - val_loss: 0.2407 - val_accuracy: 0.6111\n",
      "Epoch 11/30\n",
      "122/122 [==============================] - 8s 64ms/step - loss: 0.1506 - accuracy: 0.7988 - val_loss: 0.2434 - val_accuracy: 0.6019\n",
      "Epoch 12/30\n",
      "122/122 [==============================] - 8s 64ms/step - loss: 0.1578 - accuracy: 0.7905 - val_loss: 0.2414 - val_accuracy: 0.5926\n",
      "Epoch 13/30\n",
      "122/122 [==============================] - 8s 64ms/step - loss: 0.1658 - accuracy: 0.7762 - val_loss: 0.2424 - val_accuracy: 0.6204\n",
      "Epoch 14/30\n",
      "122/122 [==============================] - 8s 64ms/step - loss: 0.1410 - accuracy: 0.8161 - val_loss: 0.2311 - val_accuracy: 0.6481\n",
      "Epoch 15/30\n",
      "122/122 [==============================] - 8s 64ms/step - loss: 0.1449 - accuracy: 0.8134 - val_loss: 0.2462 - val_accuracy: 0.6111\n",
      "Epoch 16/30\n",
      "122/122 [==============================] - 8s 64ms/step - loss: 0.1442 - accuracy: 0.8070 - val_loss: 0.2323 - val_accuracy: 0.6481\n",
      "Epoch 17/30\n",
      "122/122 [==============================] - 8s 64ms/step - loss: 0.1296 - accuracy: 0.8215 - val_loss: 0.2273 - val_accuracy: 0.6667\n",
      "Epoch 18/30\n",
      "122/122 [==============================] - 8s 64ms/step - loss: 0.1364 - accuracy: 0.8375 - val_loss: 0.2375 - val_accuracy: 0.6019\n",
      "Epoch 19/30\n",
      "122/122 [==============================] - 8s 65ms/step - loss: 0.1224 - accuracy: 0.8442 - val_loss: 0.2375 - val_accuracy: 0.6204\n",
      "Epoch 20/30\n",
      "122/122 [==============================] - 8s 65ms/step - loss: 0.1209 - accuracy: 0.8589 - val_loss: 0.2372 - val_accuracy: 0.5833\n",
      "Epoch 21/30\n",
      "122/122 [==============================] - 8s 67ms/step - loss: 0.1221 - accuracy: 0.8445 - val_loss: 0.2394 - val_accuracy: 0.6389\n",
      "Epoch 22/30\n",
      "122/122 [==============================] - 8s 65ms/step - loss: 0.1094 - accuracy: 0.8731 - val_loss: 0.2295 - val_accuracy: 0.6111\n",
      "Epoch 23/30\n",
      "122/122 [==============================] - 8s 63ms/step - loss: 0.1068 - accuracy: 0.8657 - val_loss: 0.2430 - val_accuracy: 0.6296\n",
      "Epoch 24/30\n",
      "122/122 [==============================] - 8s 62ms/step - loss: 0.1088 - accuracy: 0.8733 - val_loss: 0.2357 - val_accuracy: 0.6389\n",
      "Epoch 25/30\n",
      "122/122 [==============================] - 7s 61ms/step - loss: 0.0909 - accuracy: 0.9089 - val_loss: 0.2327 - val_accuracy: 0.6111\n",
      "Epoch 26/30\n",
      "122/122 [==============================] - 8s 62ms/step - loss: 0.1005 - accuracy: 0.8864 - val_loss: 0.2336 - val_accuracy: 0.6481\n",
      "Epoch 27/30\n",
      "122/122 [==============================] - 8s 62ms/step - loss: 0.0920 - accuracy: 0.8809 - val_loss: 0.2289 - val_accuracy: 0.6296\n",
      "Epoch 28/30\n",
      "122/122 [==============================] - 7s 61ms/step - loss: 0.0905 - accuracy: 0.8904 - val_loss: 0.2196 - val_accuracy: 0.6759\n",
      "Epoch 29/30\n",
      "122/122 [==============================] - 8s 62ms/step - loss: 0.0822 - accuracy: 0.9134 - val_loss: 0.2267 - val_accuracy: 0.6944\n",
      "Epoch 30/30\n",
      "122/122 [==============================] - 8s 63ms/step - loss: 0.0817 - accuracy: 0.9092 - val_loss: 0.2496 - val_accuracy: 0.5926\n",
      "Hightest accuracy: 0.6944444179534912\n"
     ]
    },
    {
     "name": "stderr",
     "output_type": "stream",
     "text": [
      "WARNING:absl:Found untraced functions such as lstm_cell_13_layer_call_and_return_conditional_losses, lstm_cell_13_layer_call_fn, lstm_cell_13_layer_call_fn, lstm_cell_13_layer_call_and_return_conditional_losses, lstm_cell_13_layer_call_and_return_conditional_losses while saving (showing 5 of 5). These functions will not be directly callable after loading.\n",
      "WARNING:absl:Found untraced functions such as lstm_cell_13_layer_call_and_return_conditional_losses, lstm_cell_13_layer_call_fn, lstm_cell_13_layer_call_fn, lstm_cell_13_layer_call_and_return_conditional_losses, lstm_cell_13_layer_call_and_return_conditional_losses while saving (showing 5 of 5). These functions will not be directly callable after loading.\n"
     ]
    },
    {
     "name": "stdout",
     "output_type": "stream",
     "text": [
      "INFO:tensorflow:Assets written to: ../Results/LSTM_model/LSTM_model_test_fold_3\\assets\n"
     ]
    },
    {
     "name": "stderr",
     "output_type": "stream",
     "text": [
      "INFO:tensorflow:Assets written to: ../Results/LSTM_model/LSTM_model_test_fold_3\\assets\n"
     ]
    },
    {
     "name": "stdout",
     "output_type": "stream",
     "text": [
      "********** Test Fold 4 ************\n",
      "(972, 32, 7680) (108, 32, 7680)\n",
      "All features of training data shape:  (972, 119, 128)\n",
      "All features of test data shape:  (108, 119, 128)\n",
      "Epoch 1/30\n",
      "122/122 [==============================] - 10s 69ms/step - loss: 0.2528 - accuracy: 0.5524 - val_loss: 0.2353 - val_accuracy: 0.6019\n",
      "Epoch 2/30\n",
      "122/122 [==============================] - 8s 66ms/step - loss: 0.2230 - accuracy: 0.6303 - val_loss: 0.2316 - val_accuracy: 0.5926\n",
      "Epoch 3/30\n",
      "122/122 [==============================] - 8s 66ms/step - loss: 0.2127 - accuracy: 0.6639 - val_loss: 0.2321 - val_accuracy: 0.6111\n",
      "Epoch 4/30\n",
      "122/122 [==============================] - 8s 66ms/step - loss: 0.2090 - accuracy: 0.6839 - val_loss: 0.2218 - val_accuracy: 0.6204\n",
      "Epoch 5/30\n",
      "122/122 [==============================] - 8s 66ms/step - loss: 0.1883 - accuracy: 0.7258 - val_loss: 0.2187 - val_accuracy: 0.6389\n",
      "Epoch 6/30\n",
      "122/122 [==============================] - 8s 66ms/step - loss: 0.1840 - accuracy: 0.7508 - val_loss: 0.2176 - val_accuracy: 0.6389\n",
      "Epoch 7/30\n",
      "122/122 [==============================] - 8s 69ms/step - loss: 0.1836 - accuracy: 0.7353 - val_loss: 0.2107 - val_accuracy: 0.6481\n",
      "Epoch 8/30\n",
      "122/122 [==============================] - 8s 69ms/step - loss: 0.1812 - accuracy: 0.7463 - val_loss: 0.2151 - val_accuracy: 0.6574\n",
      "Epoch 9/30\n",
      "122/122 [==============================] - 8s 68ms/step - loss: 0.1762 - accuracy: 0.7498 - val_loss: 0.2157 - val_accuracy: 0.6574\n",
      "Epoch 10/30\n",
      "122/122 [==============================] - 8s 66ms/step - loss: 0.1634 - accuracy: 0.7742 - val_loss: 0.2133 - val_accuracy: 0.6481\n",
      "Epoch 11/30\n",
      "122/122 [==============================] - 10s 79ms/step - loss: 0.1622 - accuracy: 0.7605 - val_loss: 0.2143 - val_accuracy: 0.6574\n",
      "Epoch 12/30\n",
      "122/122 [==============================] - 8s 69ms/step - loss: 0.1528 - accuracy: 0.7912 - val_loss: 0.2131 - val_accuracy: 0.6574\n",
      "Epoch 13/30\n",
      "122/122 [==============================] - 8s 69ms/step - loss: 0.1584 - accuracy: 0.7856 - val_loss: 0.2080 - val_accuracy: 0.6667\n",
      "Epoch 14/30\n",
      "122/122 [==============================] - 8s 66ms/step - loss: 0.1512 - accuracy: 0.7858 - val_loss: 0.2136 - val_accuracy: 0.7222\n",
      "Epoch 15/30\n",
      "122/122 [==============================] - 8s 66ms/step - loss: 0.1363 - accuracy: 0.8228 - val_loss: 0.2199 - val_accuracy: 0.6759\n",
      "Epoch 16/30\n",
      "122/122 [==============================] - 8s 67ms/step - loss: 0.1373 - accuracy: 0.8287 - val_loss: 0.2116 - val_accuracy: 0.6389\n",
      "Epoch 17/30\n",
      "122/122 [==============================] - 8s 64ms/step - loss: 0.1279 - accuracy: 0.8566 - val_loss: 0.2141 - val_accuracy: 0.6389\n",
      "Epoch 18/30\n",
      "122/122 [==============================] - 8s 64ms/step - loss: 0.1198 - accuracy: 0.8614 - val_loss: 0.2055 - val_accuracy: 0.6944\n",
      "Epoch 19/30\n",
      "122/122 [==============================] - 8s 67ms/step - loss: 0.1210 - accuracy: 0.8570 - val_loss: 0.2215 - val_accuracy: 0.6759\n",
      "Epoch 20/30\n",
      "122/122 [==============================] - 8s 64ms/step - loss: 0.1120 - accuracy: 0.8636 - val_loss: 0.2234 - val_accuracy: 0.6204\n",
      "Epoch 21/30\n",
      "122/122 [==============================] - 8s 63ms/step - loss: 0.1097 - accuracy: 0.8677 - val_loss: 0.2158 - val_accuracy: 0.6204\n",
      "Epoch 22/30\n",
      "122/122 [==============================] - 8s 63ms/step - loss: 0.1097 - accuracy: 0.8743 - val_loss: 0.2126 - val_accuracy: 0.6852\n",
      "Epoch 23/30\n",
      "122/122 [==============================] - 8s 63ms/step - loss: 0.1078 - accuracy: 0.8707 - val_loss: 0.2190 - val_accuracy: 0.6667\n",
      "Epoch 24/30\n",
      "122/122 [==============================] - 8s 67ms/step - loss: 0.0967 - accuracy: 0.8964 - val_loss: 0.2144 - val_accuracy: 0.6667\n",
      "Epoch 25/30\n",
      "122/122 [==============================] - 8s 64ms/step - loss: 0.0983 - accuracy: 0.8868 - val_loss: 0.2103 - val_accuracy: 0.6667\n",
      "Epoch 26/30\n",
      "122/122 [==============================] - 8s 64ms/step - loss: 0.0940 - accuracy: 0.9020 - val_loss: 0.2189 - val_accuracy: 0.7130\n",
      "Epoch 27/30\n",
      "122/122 [==============================] - 8s 65ms/step - loss: 0.0869 - accuracy: 0.9031 - val_loss: 0.2132 - val_accuracy: 0.6481\n",
      "Epoch 28/30\n",
      "122/122 [==============================] - 8s 63ms/step - loss: 0.0889 - accuracy: 0.9136 - val_loss: 0.2304 - val_accuracy: 0.6574\n",
      "Epoch 29/30\n",
      "122/122 [==============================] - 8s 63ms/step - loss: 0.0815 - accuracy: 0.9080 - val_loss: 0.2244 - val_accuracy: 0.6204\n",
      "Epoch 30/30\n",
      "122/122 [==============================] - 8s 63ms/step - loss: 0.0793 - accuracy: 0.9076 - val_loss: 0.2329 - val_accuracy: 0.6296\n",
      "Hightest accuracy: 0.7222222089767456\n"
     ]
    },
    {
     "name": "stderr",
     "output_type": "stream",
     "text": [
      "WARNING:absl:Found untraced functions such as lstm_cell_14_layer_call_and_return_conditional_losses, lstm_cell_14_layer_call_fn, lstm_cell_14_layer_call_fn, lstm_cell_14_layer_call_and_return_conditional_losses, lstm_cell_14_layer_call_and_return_conditional_losses while saving (showing 5 of 5). These functions will not be directly callable after loading.\n",
      "WARNING:absl:Found untraced functions such as lstm_cell_14_layer_call_and_return_conditional_losses, lstm_cell_14_layer_call_fn, lstm_cell_14_layer_call_fn, lstm_cell_14_layer_call_and_return_conditional_losses, lstm_cell_14_layer_call_and_return_conditional_losses while saving (showing 5 of 5). These functions will not be directly callable after loading.\n"
     ]
    },
    {
     "name": "stdout",
     "output_type": "stream",
     "text": [
      "INFO:tensorflow:Assets written to: ../Results/LSTM_model/LSTM_model_test_fold_4\\assets\n"
     ]
    },
    {
     "name": "stderr",
     "output_type": "stream",
     "text": [
      "INFO:tensorflow:Assets written to: ../Results/LSTM_model/LSTM_model_test_fold_4\\assets\n"
     ]
    },
    {
     "name": "stdout",
     "output_type": "stream",
     "text": [
      "********** Test Fold 5 ************\n",
      "(972, 32, 7680) (108, 32, 7680)\n",
      "All features of training data shape:  (972, 119, 128)\n",
      "All features of test data shape:  (108, 119, 128)\n",
      "Epoch 1/30\n",
      "122/122 [==============================] - 10s 74ms/step - loss: 0.2492 - accuracy: 0.5442 - val_loss: 0.2259 - val_accuracy: 0.6204\n",
      "Epoch 2/30\n",
      "122/122 [==============================] - 8s 65ms/step - loss: 0.2265 - accuracy: 0.6160 - val_loss: 0.2194 - val_accuracy: 0.6389\n",
      "Epoch 3/30\n",
      "122/122 [==============================] - 8s 64ms/step - loss: 0.2162 - accuracy: 0.6822 - val_loss: 0.2162 - val_accuracy: 0.6667\n",
      "Epoch 4/30\n",
      "122/122 [==============================] - 8s 67ms/step - loss: 0.2121 - accuracy: 0.6774 - val_loss: 0.2128 - val_accuracy: 0.6667\n",
      "Epoch 5/30\n",
      "122/122 [==============================] - 8s 66ms/step - loss: 0.2055 - accuracy: 0.7059 - val_loss: 0.2095 - val_accuracy: 0.6667\n",
      "Epoch 6/30\n",
      "122/122 [==============================] - 8s 65ms/step - loss: 0.1969 - accuracy: 0.7170 - val_loss: 0.2087 - val_accuracy: 0.7037\n",
      "Epoch 7/30\n",
      "122/122 [==============================] - 8s 67ms/step - loss: 0.1889 - accuracy: 0.7225 - val_loss: 0.2116 - val_accuracy: 0.6667\n",
      "Epoch 8/30\n",
      "122/122 [==============================] - 8s 66ms/step - loss: 0.1814 - accuracy: 0.7428 - val_loss: 0.2131 - val_accuracy: 0.6389\n",
      "Epoch 9/30\n",
      "122/122 [==============================] - 8s 68ms/step - loss: 0.1728 - accuracy: 0.7534 - val_loss: 0.2139 - val_accuracy: 0.6111\n",
      "Epoch 10/30\n",
      "122/122 [==============================] - 8s 67ms/step - loss: 0.1766 - accuracy: 0.7567 - val_loss: 0.2116 - val_accuracy: 0.6204\n",
      "Epoch 11/30\n",
      "122/122 [==============================] - 8s 68ms/step - loss: 0.1659 - accuracy: 0.7750 - val_loss: 0.2127 - val_accuracy: 0.6296\n",
      "Epoch 12/30\n",
      "122/122 [==============================] - 8s 67ms/step - loss: 0.1642 - accuracy: 0.7798 - val_loss: 0.2142 - val_accuracy: 0.6389\n",
      "Epoch 13/30\n",
      "122/122 [==============================] - 8s 67ms/step - loss: 0.1497 - accuracy: 0.7950 - val_loss: 0.2148 - val_accuracy: 0.6296\n",
      "Epoch 14/30\n",
      "122/122 [==============================] - 8s 66ms/step - loss: 0.1531 - accuracy: 0.7956 - val_loss: 0.2174 - val_accuracy: 0.6111\n",
      "Epoch 15/30\n",
      "122/122 [==============================] - 8s 65ms/step - loss: 0.1456 - accuracy: 0.7991 - val_loss: 0.2154 - val_accuracy: 0.6204\n",
      "Epoch 16/30\n",
      "122/122 [==============================] - 8s 67ms/step - loss: 0.1473 - accuracy: 0.7921 - val_loss: 0.2174 - val_accuracy: 0.6296\n",
      "Epoch 17/30\n",
      "122/122 [==============================] - 8s 67ms/step - loss: 0.1418 - accuracy: 0.8200 - val_loss: 0.2146 - val_accuracy: 0.6389\n",
      "Epoch 18/30\n",
      "122/122 [==============================] - 8s 68ms/step - loss: 0.1331 - accuracy: 0.8311 - val_loss: 0.2181 - val_accuracy: 0.6574\n",
      "Epoch 19/30\n",
      "122/122 [==============================] - 8s 67ms/step - loss: 0.1294 - accuracy: 0.8492 - val_loss: 0.2186 - val_accuracy: 0.6204\n",
      "Epoch 20/30\n",
      "122/122 [==============================] - 8s 67ms/step - loss: 0.1274 - accuracy: 0.8447 - val_loss: 0.2243 - val_accuracy: 0.6389\n",
      "Epoch 21/30\n",
      "122/122 [==============================] - 8s 67ms/step - loss: 0.1213 - accuracy: 0.8285 - val_loss: 0.2211 - val_accuracy: 0.6574\n",
      "Epoch 22/30\n",
      "122/122 [==============================] - 8s 67ms/step - loss: 0.1160 - accuracy: 0.8568 - val_loss: 0.2254 - val_accuracy: 0.6574\n",
      "Epoch 23/30\n",
      "122/122 [==============================] - 8s 66ms/step - loss: 0.1163 - accuracy: 0.8521 - val_loss: 0.2249 - val_accuracy: 0.6574\n",
      "Epoch 24/30\n",
      "122/122 [==============================] - 8s 68ms/step - loss: 0.1094 - accuracy: 0.8653 - val_loss: 0.2229 - val_accuracy: 0.6296\n",
      "Epoch 25/30\n",
      "122/122 [==============================] - 8s 66ms/step - loss: 0.1009 - accuracy: 0.8812 - val_loss: 0.2229 - val_accuracy: 0.6944\n",
      "Epoch 26/30\n",
      "122/122 [==============================] - 8s 67ms/step - loss: 0.0969 - accuracy: 0.8919 - val_loss: 0.2225 - val_accuracy: 0.6759\n",
      "Epoch 27/30\n",
      "122/122 [==============================] - 8s 67ms/step - loss: 0.0989 - accuracy: 0.8926 - val_loss: 0.2344 - val_accuracy: 0.6759\n",
      "Epoch 28/30\n",
      "122/122 [==============================] - 8s 67ms/step - loss: 0.0937 - accuracy: 0.9072 - val_loss: 0.2299 - val_accuracy: 0.6667\n",
      "Epoch 29/30\n",
      "122/122 [==============================] - 8s 67ms/step - loss: 0.0868 - accuracy: 0.8956 - val_loss: 0.2235 - val_accuracy: 0.6574\n",
      "Epoch 30/30\n",
      "122/122 [==============================] - 8s 67ms/step - loss: 0.0868 - accuracy: 0.9117 - val_loss: 0.2268 - val_accuracy: 0.6204\n",
      "Hightest accuracy: 0.7037037014961243\n"
     ]
    },
    {
     "name": "stderr",
     "output_type": "stream",
     "text": [
      "WARNING:absl:Found untraced functions such as lstm_cell_15_layer_call_and_return_conditional_losses, lstm_cell_15_layer_call_fn, lstm_cell_15_layer_call_fn, lstm_cell_15_layer_call_and_return_conditional_losses, lstm_cell_15_layer_call_and_return_conditional_losses while saving (showing 5 of 5). These functions will not be directly callable after loading.\n",
      "WARNING:absl:Found untraced functions such as lstm_cell_15_layer_call_and_return_conditional_losses, lstm_cell_15_layer_call_fn, lstm_cell_15_layer_call_fn, lstm_cell_15_layer_call_and_return_conditional_losses, lstm_cell_15_layer_call_and_return_conditional_losses while saving (showing 5 of 5). These functions will not be directly callable after loading.\n"
     ]
    },
    {
     "name": "stdout",
     "output_type": "stream",
     "text": [
      "INFO:tensorflow:Assets written to: ../Results/LSTM_model/LSTM_model_test_fold_5\\assets\n"
     ]
    },
    {
     "name": "stderr",
     "output_type": "stream",
     "text": [
      "INFO:tensorflow:Assets written to: ../Results/LSTM_model/LSTM_model_test_fold_5\\assets\n"
     ]
    },
    {
     "name": "stdout",
     "output_type": "stream",
     "text": [
      "********** Test Fold 6 ************\n",
      "(972, 32, 7680) (108, 32, 7680)\n",
      "All features of training data shape:  (972, 119, 128)\n",
      "All features of test data shape:  (108, 119, 128)\n",
      "Epoch 1/30\n",
      "122/122 [==============================] - 10s 68ms/step - loss: 0.2396 - accuracy: 0.5868 - val_loss: 0.2276 - val_accuracy: 0.6481\n",
      "Epoch 2/30\n",
      "122/122 [==============================] - 8s 66ms/step - loss: 0.2159 - accuracy: 0.6817 - val_loss: 0.2242 - val_accuracy: 0.6667\n",
      "Epoch 3/30\n",
      "122/122 [==============================] - 8s 66ms/step - loss: 0.2034 - accuracy: 0.7089 - val_loss: 0.2349 - val_accuracy: 0.6111\n",
      "Epoch 4/30\n",
      "122/122 [==============================] - 8s 63ms/step - loss: 0.1960 - accuracy: 0.7058 - val_loss: 0.2312 - val_accuracy: 0.6389\n",
      "Epoch 5/30\n",
      "122/122 [==============================] - 8s 65ms/step - loss: 0.1852 - accuracy: 0.7192 - val_loss: 0.2272 - val_accuracy: 0.6389\n",
      "Epoch 6/30\n",
      "122/122 [==============================] - 8s 65ms/step - loss: 0.1891 - accuracy: 0.7367 - val_loss: 0.2340 - val_accuracy: 0.6296\n",
      "Epoch 7/30\n",
      "122/122 [==============================] - 8s 65ms/step - loss: 0.1737 - accuracy: 0.7525 - val_loss: 0.2305 - val_accuracy: 0.6389\n",
      "Epoch 8/30\n",
      "122/122 [==============================] - 8s 65ms/step - loss: 0.1643 - accuracy: 0.7798 - val_loss: 0.2428 - val_accuracy: 0.6204\n",
      "Epoch 9/30\n",
      "122/122 [==============================] - 8s 65ms/step - loss: 0.1621 - accuracy: 0.7656 - val_loss: 0.2452 - val_accuracy: 0.5926\n",
      "Epoch 10/30\n",
      "122/122 [==============================] - 8s 64ms/step - loss: 0.1592 - accuracy: 0.7901 - val_loss: 0.2379 - val_accuracy: 0.6204\n",
      "Epoch 11/30\n",
      "122/122 [==============================] - 8s 65ms/step - loss: 0.1568 - accuracy: 0.7813 - val_loss: 0.2401 - val_accuracy: 0.6296\n",
      "Epoch 12/30\n",
      "122/122 [==============================] - 8s 65ms/step - loss: 0.1444 - accuracy: 0.8110 - val_loss: 0.2523 - val_accuracy: 0.6204\n",
      "Epoch 13/30\n",
      "122/122 [==============================] - 8s 66ms/step - loss: 0.1397 - accuracy: 0.8328 - val_loss: 0.2501 - val_accuracy: 0.6019\n",
      "Epoch 14/30\n",
      "122/122 [==============================] - 8s 66ms/step - loss: 0.1403 - accuracy: 0.8279 - val_loss: 0.2504 - val_accuracy: 0.5648\n",
      "Epoch 15/30\n",
      "122/122 [==============================] - 8s 66ms/step - loss: 0.1331 - accuracy: 0.8320 - val_loss: 0.2459 - val_accuracy: 0.6574\n",
      "Epoch 16/30\n",
      "122/122 [==============================] - 8s 65ms/step - loss: 0.1304 - accuracy: 0.8272 - val_loss: 0.2535 - val_accuracy: 0.5926\n",
      "Epoch 17/30\n",
      "122/122 [==============================] - 8s 65ms/step - loss: 0.1295 - accuracy: 0.8396 - val_loss: 0.2583 - val_accuracy: 0.5833\n",
      "Epoch 18/30\n",
      "122/122 [==============================] - 8s 65ms/step - loss: 0.1238 - accuracy: 0.8555 - val_loss: 0.2430 - val_accuracy: 0.6944\n",
      "Epoch 19/30\n",
      "122/122 [==============================] - 8s 65ms/step - loss: 0.1195 - accuracy: 0.8655 - val_loss: 0.2628 - val_accuracy: 0.5926\n",
      "Epoch 20/30\n",
      "122/122 [==============================] - 8s 65ms/step - loss: 0.1170 - accuracy: 0.8523 - val_loss: 0.2498 - val_accuracy: 0.6481\n",
      "Epoch 21/30\n",
      "122/122 [==============================] - 8s 65ms/step - loss: 0.1131 - accuracy: 0.8523 - val_loss: 0.2726 - val_accuracy: 0.5926\n",
      "Epoch 22/30\n",
      "122/122 [==============================] - 8s 64ms/step - loss: 0.1125 - accuracy: 0.8721 - val_loss: 0.2523 - val_accuracy: 0.6389\n",
      "Epoch 23/30\n",
      "122/122 [==============================] - 8s 65ms/step - loss: 0.0998 - accuracy: 0.8813 - val_loss: 0.2723 - val_accuracy: 0.5926\n",
      "Epoch 24/30\n",
      "122/122 [==============================] - 8s 65ms/step - loss: 0.1024 - accuracy: 0.8835 - val_loss: 0.2694 - val_accuracy: 0.6204\n",
      "Epoch 25/30\n",
      "122/122 [==============================] - 8s 65ms/step - loss: 0.0882 - accuracy: 0.9067 - val_loss: 0.2728 - val_accuracy: 0.6019\n",
      "Epoch 26/30\n",
      "122/122 [==============================] - 8s 65ms/step - loss: 0.0823 - accuracy: 0.9181 - val_loss: 0.2818 - val_accuracy: 0.6019\n",
      "Epoch 27/30\n",
      "122/122 [==============================] - 8s 65ms/step - loss: 0.0861 - accuracy: 0.9105 - val_loss: 0.2891 - val_accuracy: 0.5741\n",
      "Epoch 28/30\n",
      "122/122 [==============================] - 8s 65ms/step - loss: 0.0880 - accuracy: 0.8895 - val_loss: 0.2711 - val_accuracy: 0.5741\n",
      "Epoch 29/30\n",
      "122/122 [==============================] - 8s 65ms/step - loss: 0.0755 - accuracy: 0.9119 - val_loss: 0.2704 - val_accuracy: 0.6019\n",
      "Epoch 30/30\n",
      "122/122 [==============================] - 8s 65ms/step - loss: 0.0696 - accuracy: 0.9353 - val_loss: 0.2635 - val_accuracy: 0.6019\n",
      "Hightest accuracy: 0.6944444179534912\n"
     ]
    },
    {
     "name": "stderr",
     "output_type": "stream",
     "text": [
      "WARNING:absl:Found untraced functions such as lstm_cell_16_layer_call_and_return_conditional_losses, lstm_cell_16_layer_call_fn, lstm_cell_16_layer_call_fn, lstm_cell_16_layer_call_and_return_conditional_losses, lstm_cell_16_layer_call_and_return_conditional_losses while saving (showing 5 of 5). These functions will not be directly callable after loading.\n",
      "WARNING:absl:Found untraced functions such as lstm_cell_16_layer_call_and_return_conditional_losses, lstm_cell_16_layer_call_fn, lstm_cell_16_layer_call_fn, lstm_cell_16_layer_call_and_return_conditional_losses, lstm_cell_16_layer_call_and_return_conditional_losses while saving (showing 5 of 5). These functions will not be directly callable after loading.\n"
     ]
    },
    {
     "name": "stdout",
     "output_type": "stream",
     "text": [
      "INFO:tensorflow:Assets written to: ../Results/LSTM_model/LSTM_model_test_fold_6\\assets\n"
     ]
    },
    {
     "name": "stderr",
     "output_type": "stream",
     "text": [
      "INFO:tensorflow:Assets written to: ../Results/LSTM_model/LSTM_model_test_fold_6\\assets\n"
     ]
    },
    {
     "name": "stdout",
     "output_type": "stream",
     "text": [
      "********** Test Fold 7 ************\n",
      "(972, 32, 7680) (108, 32, 7680)\n",
      "All features of training data shape:  (972, 119, 128)\n",
      "All features of test data shape:  (108, 119, 128)\n",
      "Epoch 1/30\n",
      "122/122 [==============================] - 10s 70ms/step - loss: 0.2584 - accuracy: 0.5214 - val_loss: 0.2251 - val_accuracy: 0.6574\n",
      "Epoch 2/30\n",
      "122/122 [==============================] - 8s 65ms/step - loss: 0.2126 - accuracy: 0.6806 - val_loss: 0.2293 - val_accuracy: 0.6852\n",
      "Epoch 3/30\n",
      "122/122 [==============================] - 8s 64ms/step - loss: 0.2083 - accuracy: 0.6882 - val_loss: 0.2245 - val_accuracy: 0.6667\n",
      "Epoch 4/30\n",
      "122/122 [==============================] - 8s 64ms/step - loss: 0.2070 - accuracy: 0.6702 - val_loss: 0.2234 - val_accuracy: 0.6759\n",
      "Epoch 5/30\n",
      "122/122 [==============================] - 8s 64ms/step - loss: 0.1882 - accuracy: 0.7179 - val_loss: 0.2267 - val_accuracy: 0.6944\n",
      "Epoch 6/30\n",
      "122/122 [==============================] - 8s 65ms/step - loss: 0.1820 - accuracy: 0.7445 - val_loss: 0.2349 - val_accuracy: 0.6574\n",
      "Epoch 7/30\n",
      "122/122 [==============================] - 8s 64ms/step - loss: 0.1778 - accuracy: 0.7610 - val_loss: 0.2369 - val_accuracy: 0.6481\n",
      "Epoch 8/30\n",
      "122/122 [==============================] - 8s 64ms/step - loss: 0.1791 - accuracy: 0.7411 - val_loss: 0.2215 - val_accuracy: 0.6759\n",
      "Epoch 9/30\n",
      "122/122 [==============================] - 8s 65ms/step - loss: 0.1736 - accuracy: 0.7489 - val_loss: 0.2352 - val_accuracy: 0.6574\n",
      "Epoch 10/30\n",
      "122/122 [==============================] - 8s 64ms/step - loss: 0.1634 - accuracy: 0.7859 - val_loss: 0.2333 - val_accuracy: 0.6759\n",
      "Epoch 11/30\n",
      "122/122 [==============================] - 8s 64ms/step - loss: 0.1619 - accuracy: 0.7517 - val_loss: 0.2257 - val_accuracy: 0.6759\n",
      "Epoch 12/30\n",
      "122/122 [==============================] - 8s 64ms/step - loss: 0.1582 - accuracy: 0.7736 - val_loss: 0.2206 - val_accuracy: 0.6759\n",
      "Epoch 13/30\n",
      "122/122 [==============================] - 8s 64ms/step - loss: 0.1556 - accuracy: 0.7786 - val_loss: 0.2267 - val_accuracy: 0.6574\n",
      "Epoch 14/30\n",
      "122/122 [==============================] - 8s 64ms/step - loss: 0.1412 - accuracy: 0.7926 - val_loss: 0.2321 - val_accuracy: 0.6481\n",
      "Epoch 15/30\n",
      "122/122 [==============================] - 8s 64ms/step - loss: 0.1387 - accuracy: 0.8190 - val_loss: 0.2333 - val_accuracy: 0.6574\n",
      "Epoch 16/30\n",
      "122/122 [==============================] - 8s 64ms/step - loss: 0.1379 - accuracy: 0.8036 - val_loss: 0.2292 - val_accuracy: 0.6389\n",
      "Epoch 17/30\n",
      "122/122 [==============================] - 8s 64ms/step - loss: 0.1284 - accuracy: 0.8421 - val_loss: 0.2424 - val_accuracy: 0.6389\n",
      "Epoch 18/30\n",
      "122/122 [==============================] - 8s 64ms/step - loss: 0.1289 - accuracy: 0.8402 - val_loss: 0.2361 - val_accuracy: 0.6481\n",
      "Epoch 19/30\n",
      "122/122 [==============================] - 8s 65ms/step - loss: 0.1129 - accuracy: 0.8708 - val_loss: 0.2474 - val_accuracy: 0.6204\n",
      "Epoch 20/30\n",
      "122/122 [==============================] - 8s 64ms/step - loss: 0.1136 - accuracy: 0.8697 - val_loss: 0.2466 - val_accuracy: 0.6481\n",
      "Epoch 21/30\n",
      "122/122 [==============================] - 8s 64ms/step - loss: 0.1017 - accuracy: 0.8875 - val_loss: 0.2346 - val_accuracy: 0.6574\n",
      "Epoch 22/30\n",
      "122/122 [==============================] - 8s 64ms/step - loss: 0.1115 - accuracy: 0.8647 - val_loss: 0.2429 - val_accuracy: 0.6204\n",
      "Epoch 23/30\n",
      "122/122 [==============================] - 8s 64ms/step - loss: 0.0998 - accuracy: 0.8786 - val_loss: 0.2407 - val_accuracy: 0.6481\n",
      "Epoch 24/30\n",
      "122/122 [==============================] - 8s 64ms/step - loss: 0.0927 - accuracy: 0.9000 - val_loss: 0.2534 - val_accuracy: 0.6111\n",
      "Epoch 25/30\n",
      "122/122 [==============================] - 8s 64ms/step - loss: 0.0996 - accuracy: 0.8830 - val_loss: 0.2490 - val_accuracy: 0.6759\n",
      "Epoch 26/30\n",
      "122/122 [==============================] - 8s 64ms/step - loss: 0.0975 - accuracy: 0.8788 - val_loss: 0.2388 - val_accuracy: 0.6667\n",
      "Epoch 27/30\n",
      "122/122 [==============================] - 8s 66ms/step - loss: 0.0869 - accuracy: 0.9099 - val_loss: 0.2554 - val_accuracy: 0.6574\n",
      "Epoch 28/30\n",
      "122/122 [==============================] - 8s 66ms/step - loss: 0.0806 - accuracy: 0.9086 - val_loss: 0.2591 - val_accuracy: 0.6481\n",
      "Epoch 29/30\n",
      "122/122 [==============================] - 8s 66ms/step - loss: 0.0808 - accuracy: 0.9173 - val_loss: 0.2577 - val_accuracy: 0.6574\n",
      "Epoch 30/30\n",
      "122/122 [==============================] - 8s 66ms/step - loss: 0.0781 - accuracy: 0.9243 - val_loss: 0.2678 - val_accuracy: 0.5926\n",
      "Hightest accuracy: 0.6944444179534912\n"
     ]
    },
    {
     "name": "stderr",
     "output_type": "stream",
     "text": [
      "WARNING:absl:Found untraced functions such as lstm_cell_17_layer_call_and_return_conditional_losses, lstm_cell_17_layer_call_fn, lstm_cell_17_layer_call_fn, lstm_cell_17_layer_call_and_return_conditional_losses, lstm_cell_17_layer_call_and_return_conditional_losses while saving (showing 5 of 5). These functions will not be directly callable after loading.\n",
      "WARNING:absl:Found untraced functions such as lstm_cell_17_layer_call_and_return_conditional_losses, lstm_cell_17_layer_call_fn, lstm_cell_17_layer_call_fn, lstm_cell_17_layer_call_and_return_conditional_losses, lstm_cell_17_layer_call_and_return_conditional_losses while saving (showing 5 of 5). These functions will not be directly callable after loading.\n"
     ]
    },
    {
     "name": "stdout",
     "output_type": "stream",
     "text": [
      "INFO:tensorflow:Assets written to: ../Results/LSTM_model/LSTM_model_test_fold_7\\assets\n"
     ]
    },
    {
     "name": "stderr",
     "output_type": "stream",
     "text": [
      "INFO:tensorflow:Assets written to: ../Results/LSTM_model/LSTM_model_test_fold_7\\assets\n"
     ]
    },
    {
     "name": "stdout",
     "output_type": "stream",
     "text": [
      "********** Test Fold 8 ************\n",
      "(972, 32, 7680) (108, 32, 7680)\n",
      "All features of training data shape:  (972, 119, 128)\n",
      "All features of test data shape:  (108, 119, 128)\n",
      "Epoch 1/30\n",
      "122/122 [==============================] - 9s 67ms/step - loss: 0.2533 - accuracy: 0.5259 - val_loss: 0.2401 - val_accuracy: 0.6389\n",
      "Epoch 2/30\n",
      "122/122 [==============================] - 8s 64ms/step - loss: 0.2163 - accuracy: 0.6705 - val_loss: 0.2357 - val_accuracy: 0.6481\n",
      "Epoch 3/30\n",
      "122/122 [==============================] - 8s 63ms/step - loss: 0.2047 - accuracy: 0.6893 - val_loss: 0.2381 - val_accuracy: 0.6389\n",
      "Epoch 4/30\n",
      "122/122 [==============================] - 8s 62ms/step - loss: 0.1979 - accuracy: 0.7117 - val_loss: 0.2345 - val_accuracy: 0.6296\n",
      "Epoch 5/30\n",
      "122/122 [==============================] - 8s 64ms/step - loss: 0.1864 - accuracy: 0.7212 - val_loss: 0.2415 - val_accuracy: 0.5741\n",
      "Epoch 6/30\n",
      "122/122 [==============================] - 8s 64ms/step - loss: 0.1918 - accuracy: 0.7130 - val_loss: 0.2417 - val_accuracy: 0.6296\n",
      "Epoch 7/30\n",
      "122/122 [==============================] - 8s 64ms/step - loss: 0.1800 - accuracy: 0.7411 - val_loss: 0.2447 - val_accuracy: 0.5833\n",
      "Epoch 8/30\n",
      "122/122 [==============================] - 8s 64ms/step - loss: 0.1728 - accuracy: 0.7476 - val_loss: 0.2457 - val_accuracy: 0.6019\n",
      "Epoch 9/30\n",
      "122/122 [==============================] - 8s 66ms/step - loss: 0.1673 - accuracy: 0.7513 - val_loss: 0.2343 - val_accuracy: 0.6481\n",
      "Epoch 10/30\n",
      "122/122 [==============================] - 8s 66ms/step - loss: 0.1646 - accuracy: 0.7756 - val_loss: 0.2405 - val_accuracy: 0.5926\n",
      "Epoch 11/30\n",
      "122/122 [==============================] - 8s 67ms/step - loss: 0.1606 - accuracy: 0.7797 - val_loss: 0.2532 - val_accuracy: 0.5741\n",
      "Epoch 12/30\n",
      "122/122 [==============================] - 8s 66ms/step - loss: 0.1550 - accuracy: 0.8120 - val_loss: 0.2436 - val_accuracy: 0.6019\n",
      "Epoch 13/30\n",
      "122/122 [==============================] - 8s 66ms/step - loss: 0.1472 - accuracy: 0.8057 - val_loss: 0.2449 - val_accuracy: 0.5926\n",
      "Epoch 14/30\n",
      "122/122 [==============================] - 8s 67ms/step - loss: 0.1485 - accuracy: 0.7921 - val_loss: 0.2423 - val_accuracy: 0.6481\n",
      "Epoch 15/30\n",
      "122/122 [==============================] - 8s 67ms/step - loss: 0.1413 - accuracy: 0.8267 - val_loss: 0.2514 - val_accuracy: 0.6019\n",
      "Epoch 16/30\n",
      "122/122 [==============================] - 8s 67ms/step - loss: 0.1301 - accuracy: 0.8384 - val_loss: 0.2457 - val_accuracy: 0.6111\n",
      "Epoch 17/30\n",
      "122/122 [==============================] - 8s 67ms/step - loss: 0.1378 - accuracy: 0.8092 - val_loss: 0.2566 - val_accuracy: 0.6019\n",
      "Epoch 18/30\n",
      "122/122 [==============================] - 8s 67ms/step - loss: 0.1382 - accuracy: 0.8219 - val_loss: 0.2541 - val_accuracy: 0.5833\n",
      "Epoch 19/30\n",
      "122/122 [==============================] - 8s 67ms/step - loss: 0.1253 - accuracy: 0.8483 - val_loss: 0.2492 - val_accuracy: 0.6111\n",
      "Epoch 20/30\n",
      "122/122 [==============================] - 8s 68ms/step - loss: 0.1284 - accuracy: 0.8413 - val_loss: 0.2528 - val_accuracy: 0.5926\n",
      "Epoch 21/30\n",
      "122/122 [==============================] - 8s 67ms/step - loss: 0.1146 - accuracy: 0.8757 - val_loss: 0.2411 - val_accuracy: 0.6481\n",
      "Epoch 22/30\n",
      "122/122 [==============================] - 8s 67ms/step - loss: 0.1135 - accuracy: 0.8596 - val_loss: 0.2509 - val_accuracy: 0.6204\n",
      "Epoch 23/30\n",
      "122/122 [==============================] - 8s 66ms/step - loss: 0.1024 - accuracy: 0.8831 - val_loss: 0.2572 - val_accuracy: 0.6204\n",
      "Epoch 24/30\n",
      "122/122 [==============================] - 8s 65ms/step - loss: 0.1067 - accuracy: 0.8812 - val_loss: 0.2509 - val_accuracy: 0.6111\n",
      "Epoch 25/30\n",
      "122/122 [==============================] - 8s 68ms/step - loss: 0.0984 - accuracy: 0.8847 - val_loss: 0.2657 - val_accuracy: 0.6019\n",
      "Epoch 26/30\n",
      "122/122 [==============================] - 8s 67ms/step - loss: 0.0970 - accuracy: 0.8842 - val_loss: 0.2557 - val_accuracy: 0.6111\n",
      "Epoch 27/30\n",
      "122/122 [==============================] - 8s 66ms/step - loss: 0.0946 - accuracy: 0.9019 - val_loss: 0.2673 - val_accuracy: 0.5833\n",
      "Epoch 28/30\n",
      "122/122 [==============================] - 8s 67ms/step - loss: 0.0946 - accuracy: 0.8911 - val_loss: 0.2567 - val_accuracy: 0.6296\n",
      "Epoch 29/30\n",
      "122/122 [==============================] - 8s 68ms/step - loss: 0.0890 - accuracy: 0.8955 - val_loss: 0.2611 - val_accuracy: 0.5833\n",
      "Epoch 30/30\n",
      "122/122 [==============================] - 8s 67ms/step - loss: 0.0777 - accuracy: 0.9097 - val_loss: 0.2568 - val_accuracy: 0.5833\n",
      "Hightest accuracy: 0.6481481194496155\n"
     ]
    },
    {
     "name": "stderr",
     "output_type": "stream",
     "text": [
      "WARNING:absl:Found untraced functions such as lstm_cell_18_layer_call_and_return_conditional_losses, lstm_cell_18_layer_call_fn, lstm_cell_18_layer_call_fn, lstm_cell_18_layer_call_and_return_conditional_losses, lstm_cell_18_layer_call_and_return_conditional_losses while saving (showing 5 of 5). These functions will not be directly callable after loading.\n",
      "WARNING:absl:Found untraced functions such as lstm_cell_18_layer_call_and_return_conditional_losses, lstm_cell_18_layer_call_fn, lstm_cell_18_layer_call_fn, lstm_cell_18_layer_call_and_return_conditional_losses, lstm_cell_18_layer_call_and_return_conditional_losses while saving (showing 5 of 5). These functions will not be directly callable after loading.\n"
     ]
    },
    {
     "name": "stdout",
     "output_type": "stream",
     "text": [
      "INFO:tensorflow:Assets written to: ../Results/LSTM_model/LSTM_model_test_fold_8\\assets\n"
     ]
    },
    {
     "name": "stderr",
     "output_type": "stream",
     "text": [
      "INFO:tensorflow:Assets written to: ../Results/LSTM_model/LSTM_model_test_fold_8\\assets\n"
     ]
    },
    {
     "name": "stdout",
     "output_type": "stream",
     "text": [
      "********** Test Fold 9 ************\n",
      "(972, 32, 7680) (108, 32, 7680)\n",
      "All features of training data shape:  (972, 119, 128)\n",
      "All features of test data shape:  (108, 119, 128)\n",
      "Epoch 1/30\n",
      "122/122 [==============================] - 10s 69ms/step - loss: 0.2496 - accuracy: 0.5456 - val_loss: 0.2331 - val_accuracy: 0.5833\n",
      "Epoch 2/30\n",
      "122/122 [==============================] - 8s 66ms/step - loss: 0.2253 - accuracy: 0.6450 - val_loss: 0.2288 - val_accuracy: 0.6204\n",
      "Epoch 3/30\n",
      "122/122 [==============================] - 8s 67ms/step - loss: 0.2079 - accuracy: 0.6953 - val_loss: 0.2258 - val_accuracy: 0.6389\n",
      "Epoch 4/30\n",
      "122/122 [==============================] - 8s 66ms/step - loss: 0.1936 - accuracy: 0.7313 - val_loss: 0.2210 - val_accuracy: 0.6481\n",
      "Epoch 5/30\n",
      "122/122 [==============================] - 8s 68ms/step - loss: 0.1898 - accuracy: 0.7175 - val_loss: 0.2217 - val_accuracy: 0.6296\n",
      "Epoch 6/30\n",
      "122/122 [==============================] - 8s 68ms/step - loss: 0.1927 - accuracy: 0.7048 - val_loss: 0.2224 - val_accuracy: 0.6204\n",
      "Epoch 7/30\n",
      "122/122 [==============================] - 8s 69ms/step - loss: 0.1842 - accuracy: 0.7338 - val_loss: 0.2191 - val_accuracy: 0.6204\n",
      "Epoch 8/30\n",
      "122/122 [==============================] - 8s 69ms/step - loss: 0.1797 - accuracy: 0.7502 - val_loss: 0.2202 - val_accuracy: 0.6389\n",
      "Epoch 9/30\n",
      "122/122 [==============================] - 8s 69ms/step - loss: 0.1719 - accuracy: 0.7777 - val_loss: 0.2175 - val_accuracy: 0.6574\n",
      "Epoch 10/30\n",
      "122/122 [==============================] - 8s 69ms/step - loss: 0.1736 - accuracy: 0.7488 - val_loss: 0.2157 - val_accuracy: 0.6389\n",
      "Epoch 11/30\n",
      "122/122 [==============================] - 8s 68ms/step - loss: 0.1647 - accuracy: 0.7717 - val_loss: 0.2096 - val_accuracy: 0.6667\n",
      "Epoch 12/30\n",
      "122/122 [==============================] - 8s 68ms/step - loss: 0.1607 - accuracy: 0.7753 - val_loss: 0.2087 - val_accuracy: 0.6852\n",
      "Epoch 13/30\n",
      "122/122 [==============================] - 8s 69ms/step - loss: 0.1489 - accuracy: 0.8065 - val_loss: 0.2066 - val_accuracy: 0.7130\n",
      "Epoch 14/30\n",
      "122/122 [==============================] - 9s 70ms/step - loss: 0.1543 - accuracy: 0.7864 - val_loss: 0.2088 - val_accuracy: 0.6759\n",
      "Epoch 15/30\n",
      "122/122 [==============================] - 9s 70ms/step - loss: 0.1488 - accuracy: 0.7922 - val_loss: 0.2072 - val_accuracy: 0.6667\n",
      "Epoch 16/30\n",
      "122/122 [==============================] - 9s 72ms/step - loss: 0.1480 - accuracy: 0.7901 - val_loss: 0.2027 - val_accuracy: 0.6852\n",
      "Epoch 17/30\n",
      "122/122 [==============================] - 8s 70ms/step - loss: 0.1438 - accuracy: 0.8114 - val_loss: 0.2183 - val_accuracy: 0.6574\n",
      "Epoch 18/30\n",
      "122/122 [==============================] - 9s 72ms/step - loss: 0.1301 - accuracy: 0.8361 - val_loss: 0.2204 - val_accuracy: 0.6759\n",
      "Epoch 19/30\n",
      "122/122 [==============================] - 9s 70ms/step - loss: 0.1268 - accuracy: 0.8472 - val_loss: 0.2096 - val_accuracy: 0.6667\n",
      "Epoch 20/30\n",
      "122/122 [==============================] - 9s 70ms/step - loss: 0.1255 - accuracy: 0.8475 - val_loss: 0.2092 - val_accuracy: 0.6759\n",
      "Epoch 21/30\n",
      "122/122 [==============================] - 8s 70ms/step - loss: 0.1204 - accuracy: 0.8554 - val_loss: 0.2125 - val_accuracy: 0.6574\n",
      "Epoch 22/30\n",
      "122/122 [==============================] - 9s 70ms/step - loss: 0.1172 - accuracy: 0.8688 - val_loss: 0.2214 - val_accuracy: 0.6296\n",
      "Epoch 23/30\n",
      "122/122 [==============================] - 9s 70ms/step - loss: 0.1098 - accuracy: 0.8585 - val_loss: 0.2021 - val_accuracy: 0.7130\n",
      "Epoch 24/30\n",
      "122/122 [==============================] - 9s 73ms/step - loss: 0.1110 - accuracy: 0.8727 - val_loss: 0.2016 - val_accuracy: 0.6852\n",
      "Epoch 25/30\n",
      "122/122 [==============================] - 9s 71ms/step - loss: 0.1039 - accuracy: 0.8730 - val_loss: 0.2125 - val_accuracy: 0.6759\n",
      "Epoch 26/30\n",
      "122/122 [==============================] - 9s 70ms/step - loss: 0.1040 - accuracy: 0.8718 - val_loss: 0.2191 - val_accuracy: 0.6667\n",
      "Epoch 27/30\n",
      "122/122 [==============================] - 9s 70ms/step - loss: 0.0968 - accuracy: 0.8800 - val_loss: 0.2040 - val_accuracy: 0.6481\n",
      "Epoch 28/30\n",
      "122/122 [==============================] - 9s 70ms/step - loss: 0.0957 - accuracy: 0.8990 - val_loss: 0.2153 - val_accuracy: 0.6944\n",
      "Epoch 29/30\n",
      "122/122 [==============================] - 9s 70ms/step - loss: 0.0902 - accuracy: 0.9059 - val_loss: 0.2386 - val_accuracy: 0.6481\n",
      "Epoch 30/30\n",
      "122/122 [==============================] - 9s 70ms/step - loss: 0.0938 - accuracy: 0.9042 - val_loss: 0.2101 - val_accuracy: 0.6667\n",
      "Hightest accuracy: 0.7129629850387573\n"
     ]
    },
    {
     "name": "stderr",
     "output_type": "stream",
     "text": [
      "WARNING:absl:Found untraced functions such as lstm_cell_19_layer_call_and_return_conditional_losses, lstm_cell_19_layer_call_fn, lstm_cell_19_layer_call_fn, lstm_cell_19_layer_call_and_return_conditional_losses, lstm_cell_19_layer_call_and_return_conditional_losses while saving (showing 5 of 5). These functions will not be directly callable after loading.\n",
      "WARNING:absl:Found untraced functions such as lstm_cell_19_layer_call_and_return_conditional_losses, lstm_cell_19_layer_call_fn, lstm_cell_19_layer_call_fn, lstm_cell_19_layer_call_and_return_conditional_losses, lstm_cell_19_layer_call_and_return_conditional_losses while saving (showing 5 of 5). These functions will not be directly callable after loading.\n"
     ]
    },
    {
     "name": "stdout",
     "output_type": "stream",
     "text": [
      "INFO:tensorflow:Assets written to: ../Results/LSTM_model/LSTM_model_test_fold_9\\assets\n"
     ]
    },
    {
     "name": "stderr",
     "output_type": "stream",
     "text": [
      "INFO:tensorflow:Assets written to: ../Results/LSTM_model/LSTM_model_test_fold_9\\assets\n"
     ]
    }
   ],
   "source": [
    "for i in range(10):\n",
    "    print(\"********** Test Fold \" + str(i) + \" ************\")\n",
    "    process(i)"
   ]
  },
  {
   "cell_type": "markdown",
   "metadata": {},
   "source": [
    "# Test each section in process() function"
   ]
  },
  {
   "cell_type": "code",
   "execution_count": 9,
   "metadata": {},
   "outputs": [
    {
     "name": "stdout",
     "output_type": "stream",
     "text": [
      "(972, 32, 7680) (108, 32, 7680)\n"
     ]
    }
   ],
   "source": [
    "test_fold_number = 0\n",
    "# train has 9 folds, test has 1 fold\n",
    "train_data = np.concatenate((all_data[:test_fold_number*fold_n], all_data[fold_n+test_fold_number*fold_n:]), axis=0)\n",
    "train_labels = np.concatenate((all_labels[:test_fold_number*fold_n], all_labels[fold_n+test_fold_number*fold_n:]), axis=0)\n",
    "test_data = all_data[test_fold_number*fold_n : fold_n+test_fold_number*fold_n]\n",
    "test_labels = all_labels[test_fold_number*fold_n : fold_n+test_fold_number*fold_n]\n",
    "print(train_data.shape,test_data.shape) # (945, 32, 8064) (105, 32, 8064)"
   ]
  },
  {
   "cell_type": "code",
   "execution_count": 12,
   "metadata": {},
   "outputs": [
    {
     "name": "stdout",
     "output_type": "stream",
     "text": [
      "All features of training data shape:  (972, 119, 128)\n",
      "All features of test data shape:  (108, 119, 128)\n"
     ]
    }
   ],
   "source": [
    "# -------- Feature extraction from 32 original signal --------\n",
    "train_band_power = [] # band power feature sequence for train trials\n",
    "for data in train_data: # for every train trial\n",
    "    with io.capture_output() as captured:\n",
    "        trial_band_power = trial_psd_extraction_integration(data) # data shape (32, 8064)\n",
    "    train_band_power.append(trial_band_power)\n",
    "train_band_power = np.array(train_band_power)\n",
    "\n",
    "test_band_power = [] # band power feature sequence for test trials\n",
    "for data in test_data: # for every test trial\n",
    "    with io.capture_output() as captured:\n",
    "        trial_band_power = trial_psd_extraction_integration(data) # data shape (32, 8064)\n",
    "    test_band_power.append(trial_band_power)\n",
    "test_band_power = np.array(test_band_power)\n",
    "print(\"All features of training data shape: \", train_band_power.shape) # shape (849, 125, 128)\n",
    "print(\"All features of test data shape: \", test_band_power.shape) # shape (95, 125, 128)"
   ]
  },
  {
   "cell_type": "code",
   "execution_count": 13,
   "metadata": {},
   "outputs": [
    {
     "name": "stdout",
     "output_type": "stream",
     "text": [
      "Epoch 1/30\n",
      "122/122 [==============================] - 7s 46ms/step - loss: 0.2638 - accuracy: 0.5181 - val_loss: 0.2359 - val_accuracy: 0.5741\n",
      "Epoch 2/30\n",
      "122/122 [==============================] - 6s 49ms/step - loss: 0.2171 - accuracy: 0.6490 - val_loss: 0.2261 - val_accuracy: 0.6389\n",
      "Epoch 3/30\n",
      "122/122 [==============================] - 6s 49ms/step - loss: 0.2076 - accuracy: 0.6777 - val_loss: 0.2204 - val_accuracy: 0.6574\n",
      "Epoch 4/30\n",
      "122/122 [==============================] - 7s 54ms/step - loss: 0.1943 - accuracy: 0.7325 - val_loss: 0.2167 - val_accuracy: 0.6759\n",
      "Epoch 5/30\n",
      "122/122 [==============================] - 6s 46ms/step - loss: 0.2002 - accuracy: 0.6937 - val_loss: 0.2167 - val_accuracy: 0.6944\n",
      "Epoch 6/30\n",
      "122/122 [==============================] - 6s 53ms/step - loss: 0.1890 - accuracy: 0.7170 - val_loss: 0.2142 - val_accuracy: 0.6944\n",
      "Epoch 7/30\n",
      "122/122 [==============================] - 6s 47ms/step - loss: 0.1797 - accuracy: 0.7539 - val_loss: 0.2093 - val_accuracy: 0.6574\n",
      "Epoch 8/30\n",
      "122/122 [==============================] - 5s 44ms/step - loss: 0.1816 - accuracy: 0.7347 - val_loss: 0.2083 - val_accuracy: 0.6852\n",
      "Epoch 9/30\n",
      "122/122 [==============================] - 5s 45ms/step - loss: 0.1710 - accuracy: 0.7554 - val_loss: 0.2090 - val_accuracy: 0.6574\n",
      "Epoch 10/30\n",
      "122/122 [==============================] - 5s 43ms/step - loss: 0.1617 - accuracy: 0.7872 - val_loss: 0.2088 - val_accuracy: 0.6481\n",
      "Epoch 11/30\n",
      "122/122 [==============================] - 6s 50ms/step - loss: 0.1519 - accuracy: 0.8002 - val_loss: 0.2096 - val_accuracy: 0.6667\n",
      "Epoch 12/30\n",
      "122/122 [==============================] - 7s 55ms/step - loss: 0.1591 - accuracy: 0.7962 - val_loss: 0.2101 - val_accuracy: 0.6759\n",
      "Epoch 13/30\n",
      "122/122 [==============================] - 8s 68ms/step - loss: 0.1509 - accuracy: 0.8070 - val_loss: 0.2081 - val_accuracy: 0.6481\n",
      "Epoch 14/30\n",
      "122/122 [==============================] - 7s 60ms/step - loss: 0.1529 - accuracy: 0.7921 - val_loss: 0.2086 - val_accuracy: 0.6944\n",
      "Epoch 15/30\n",
      "122/122 [==============================] - 7s 56ms/step - loss: 0.1397 - accuracy: 0.8258 - val_loss: 0.1976 - val_accuracy: 0.7500\n",
      "Epoch 16/30\n",
      "122/122 [==============================] - 7s 57ms/step - loss: 0.1297 - accuracy: 0.8424 - val_loss: 0.2172 - val_accuracy: 0.6481\n",
      "Epoch 17/30\n",
      "122/122 [==============================] - 7s 53ms/step - loss: 0.1326 - accuracy: 0.8335 - val_loss: 0.2030 - val_accuracy: 0.7037\n",
      "Epoch 18/30\n",
      "122/122 [==============================] - 7s 55ms/step - loss: 0.1265 - accuracy: 0.8346 - val_loss: 0.2146 - val_accuracy: 0.6667\n",
      "Epoch 19/30\n",
      "122/122 [==============================] - 6s 53ms/step - loss: 0.1272 - accuracy: 0.8167 - val_loss: 0.2138 - val_accuracy: 0.7037\n",
      "Epoch 20/30\n",
      "122/122 [==============================] - 6s 52ms/step - loss: 0.1117 - accuracy: 0.8601 - val_loss: 0.2060 - val_accuracy: 0.6852\n",
      "Epoch 21/30\n",
      "122/122 [==============================] - 6s 51ms/step - loss: 0.1087 - accuracy: 0.8771 - val_loss: 0.2209 - val_accuracy: 0.7037\n",
      "Epoch 22/30\n",
      "122/122 [==============================] - 6s 50ms/step - loss: 0.1060 - accuracy: 0.8697 - val_loss: 0.2191 - val_accuracy: 0.6574\n",
      "Epoch 23/30\n",
      "122/122 [==============================] - 6s 51ms/step - loss: 0.1033 - accuracy: 0.8775 - val_loss: 0.2349 - val_accuracy: 0.6204\n",
      "Epoch 24/30\n",
      "122/122 [==============================] - 6s 52ms/step - loss: 0.0946 - accuracy: 0.8967 - val_loss: 0.2338 - val_accuracy: 0.6574\n",
      "Epoch 25/30\n",
      "122/122 [==============================] - 6s 52ms/step - loss: 0.0967 - accuracy: 0.8771 - val_loss: 0.2394 - val_accuracy: 0.6111\n",
      "Epoch 26/30\n",
      "122/122 [==============================] - 6s 50ms/step - loss: 0.0971 - accuracy: 0.8803 - val_loss: 0.2281 - val_accuracy: 0.6389\n",
      "Epoch 27/30\n",
      "122/122 [==============================] - 6s 52ms/step - loss: 0.0883 - accuracy: 0.9052 - val_loss: 0.2450 - val_accuracy: 0.6389\n",
      "Epoch 28/30\n",
      "122/122 [==============================] - 6s 53ms/step - loss: 0.0825 - accuracy: 0.9067 - val_loss: 0.2135 - val_accuracy: 0.6667\n",
      "Epoch 29/30\n",
      "122/122 [==============================] - 6s 52ms/step - loss: 0.0733 - accuracy: 0.9181 - val_loss: 0.2192 - val_accuracy: 0.6667\n",
      "Epoch 30/30\n",
      "122/122 [==============================] - 7s 54ms/step - loss: 0.0708 - accuracy: 0.9264 - val_loss: 0.2402 - val_accuracy: 0.6019\n"
     ]
    },
    {
     "name": "stderr",
     "output_type": "stream",
     "text": [
      "WARNING:absl:Found untraced functions such as lstm_cell_layer_call_and_return_conditional_losses, lstm_cell_layer_call_fn, lstm_cell_layer_call_fn, lstm_cell_layer_call_and_return_conditional_losses, lstm_cell_layer_call_and_return_conditional_losses while saving (showing 5 of 5). These functions will not be directly callable after loading.\n",
      "WARNING:absl:Found untraced functions such as lstm_cell_layer_call_and_return_conditional_losses, lstm_cell_layer_call_fn, lstm_cell_layer_call_fn, lstm_cell_layer_call_and_return_conditional_losses, lstm_cell_layer_call_and_return_conditional_losses while saving (showing 5 of 5). These functions will not be directly callable after loading.\n"
     ]
    },
    {
     "name": "stdout",
     "output_type": "stream",
     "text": [
      "INFO:tensorflow:Assets written to: ../Results/LSTM_model/LSTM_model_test_fold_0\\assets\n"
     ]
    },
    {
     "name": "stderr",
     "output_type": "stream",
     "text": [
      "INFO:tensorflow:Assets written to: ../Results/LSTM_model/LSTM_model_test_fold_0\\assets\n"
     ]
    }
   ],
   "source": [
    "# -------- Create new LSTM model --------\n",
    "x=Input(shape=(n_segment,bottleneck*4)) # flatten (12,4) to 48\n",
    "x1=LSTM(n_segment)(x)\n",
    "x2=Dense(n_segment)(x1)\n",
    "x3=Dense(12)(x2)\n",
    "output=Dense(1, activation=\"sigmoid\")(x2)\n",
    "model=Model(x, output)\n",
    "\n",
    "# -------- Compile and train LSTM --------\n",
    "model.compile(optimizer='SGD', loss='mse', metrics=['accuracy'])\n",
    "model.fit(train_band_power, train_labels, epochs=30, batch_size=8, validation_data=(test_band_power, test_labels))\n",
    "model.save(\"../Results/LSTM_model/LSTM_model_test_fold_\" + str(test_fold_number))"
   ]
  }
 ],
 "metadata": {
  "kernelspec": {
   "display_name": "Python 3",
   "language": "python",
   "name": "python3"
  },
  "language_info": {
   "codemirror_mode": {
    "name": "ipython",
    "version": 3
   },
   "file_extension": ".py",
   "mimetype": "text/x-python",
   "name": "python",
   "nbconvert_exporter": "python",
   "pygments_lexer": "ipython3",
   "version": "3.6.6"
  }
 },
 "nbformat": 4,
 "nbformat_minor": 4
}
